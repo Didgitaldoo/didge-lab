{
 "cells": [
  {
   "cell_type": "code",
   "execution_count": 16,
   "metadata": {},
   "outputs": [],
   "source": [
    "import sys\n",
    "sys.path.append('../../')\n",
    "\n",
    "from cad.calc.parameters import MbeyaShape\n",
    "from cad.calc.mutation import ExploringMutator\n",
    "from tqdm import tqdm\n",
    "from cad.cadsd.cadsd import CADSD\n",
    "import pickle\n",
    "from experiments.db.generate_shapes import dbfile\n",
    "from cad.calc.conv import note_to_freq, note_name, freq_to_note_and_cent, freq_to_wavelength\n",
    "from tqdm import tqdm\n",
    "\n",
    "db = pickle.load(open(\"db.pkl\", \"rb\"))"
   ]
  },
  {
   "cell_type": "code",
   "execution_count": 33,
   "metadata": {},
   "outputs": [
    {
     "name": "stderr",
     "output_type": "stream",
     "text": [
      "100%|██████████| 10000/10000 [10:37<00:00, 15.67it/s]\n"
     ]
    }
   ],
   "source": [
    "notes = {note_name(note):[] for note in list(range(-35, -25))}\n",
    "\n",
    "for i in tqdm(range(len(db))):\n",
    "    geo, shape, cadsd = db[i]\n",
    "    l=geo.geo[-1][0]\n",
    "    \n",
    "    for note in cadsd.get_notes()[\"note-name\"]:\n",
    "        if note in notes.keys():\n",
    "            notes[note].append(l)"
   ]
  },
  {
   "cell_type": "code",
   "execution_count": 35,
   "metadata": {},
   "outputs": [
    {
     "data": {
      "text/html": [
       "<div>\n",
       "<style scoped>\n",
       "    .dataframe tbody tr th:only-of-type {\n",
       "        vertical-align: middle;\n",
       "    }\n",
       "\n",
       "    .dataframe tbody tr th {\n",
       "        vertical-align: top;\n",
       "    }\n",
       "\n",
       "    .dataframe thead th {\n",
       "        text-align: right;\n",
       "    }\n",
       "</style>\n",
       "<table border=\"1\" class=\"dataframe\">\n",
       "  <thead>\n",
       "    <tr style=\"text-align: right;\">\n",
       "      <th></th>\n",
       "      <th>note</th>\n",
       "      <th>length</th>\n",
       "    </tr>\n",
       "  </thead>\n",
       "  <tbody>\n",
       "    <tr>\n",
       "      <th>0</th>\n",
       "      <td>A#1</td>\n",
       "      <td>1691.965150</td>\n",
       "    </tr>\n",
       "    <tr>\n",
       "      <th>1</th>\n",
       "      <td>A#1</td>\n",
       "      <td>1409.873694</td>\n",
       "    </tr>\n",
       "    <tr>\n",
       "      <th>2</th>\n",
       "      <td>A#1</td>\n",
       "      <td>1961.177470</td>\n",
       "    </tr>\n",
       "    <tr>\n",
       "      <th>3</th>\n",
       "      <td>A#1</td>\n",
       "      <td>1883.229051</td>\n",
       "    </tr>\n",
       "    <tr>\n",
       "      <th>4</th>\n",
       "      <td>A#1</td>\n",
       "      <td>2079.797516</td>\n",
       "    </tr>\n",
       "    <tr>\n",
       "      <th>...</th>\n",
       "      <td>...</td>\n",
       "      <td>...</td>\n",
       "    </tr>\n",
       "    <tr>\n",
       "      <th>6281</th>\n",
       "      <td>G1</td>\n",
       "      <td>1345.151328</td>\n",
       "    </tr>\n",
       "    <tr>\n",
       "      <th>6282</th>\n",
       "      <td>G1</td>\n",
       "      <td>1262.593993</td>\n",
       "    </tr>\n",
       "    <tr>\n",
       "      <th>6283</th>\n",
       "      <td>G1</td>\n",
       "      <td>964.118477</td>\n",
       "    </tr>\n",
       "    <tr>\n",
       "      <th>6284</th>\n",
       "      <td>G1</td>\n",
       "      <td>934.799338</td>\n",
       "    </tr>\n",
       "    <tr>\n",
       "      <th>6285</th>\n",
       "      <td>G1</td>\n",
       "      <td>1356.728789</td>\n",
       "    </tr>\n",
       "  </tbody>\n",
       "</table>\n",
       "<p>6286 rows × 2 columns</p>\n",
       "</div>"
      ],
      "text/plain": [
       "     note       length\n",
       "0     A#1  1691.965150\n",
       "1     A#1  1409.873694\n",
       "2     A#1  1961.177470\n",
       "3     A#1  1883.229051\n",
       "4     A#1  2079.797516\n",
       "...   ...          ...\n",
       "6281   G1  1345.151328\n",
       "6282   G1  1262.593993\n",
       "6283   G1   964.118477\n",
       "6284   G1   934.799338\n",
       "6285   G1  1356.728789\n",
       "\n",
       "[6286 rows x 2 columns]"
      ]
     },
     "execution_count": 35,
     "metadata": {},
     "output_type": "execute_result"
    }
   ],
   "source": [
    "import seaborn as sns\n",
    "import pandas as pd\n",
    "\n",
    "df={\"note\": [], \"length\": []}\n",
    "for note, l in notes.items():\n",
    "    df[\"note\"].extend([note]*len(l))\n",
    "    df[\"length\"].extend(l)\n",
    "    \n",
    "df = pd.DataFrame(df)\n",
    "df"
   ]
  },
  {
   "cell_type": "code",
   "execution_count": 38,
   "metadata": {},
   "outputs": [
    {
     "data": {
      "text/plain": [
       "<AxesSubplot: xlabel='note', ylabel='length'>"
      ]
     },
     "execution_count": 38,
     "metadata": {},
     "output_type": "execute_result"
    },
    {
     "data": {
      "image/png": "[encoded data removed]",
      "text/plain": [
       "<Figure size 432x288 with 1 Axes>"
      ]
     },
     "metadata": {
      "needs_background": "light"
     },
     "output_type": "display_data"
    }
   ],
   "source": [
    "sns.boxplot(df, x=\"note\", y=\"length\")"
   ]
  },
  {
   "cell_type": "code",
   "execution_count": 39,
   "metadata": {},
   "outputs": [
    {
     "data": {
      "text/plain": [
       "<AxesSubplot: ylabel='length'>"
      ]
     },
     "execution_count": 39,
     "metadata": {},
     "output_type": "execute_result"
    },
    {
     "data": {
      "image/png": "[encoded data removed]",
      "text/plain": [
       "<Figure size 432x288 with 1 Axes>"
      ]
     },
     "metadata": {
      "needs_background": "light"
     },
     "output_type": "display_data"
    }
   ],
   "source": [
    "sns.boxplot(df, y=\"length\")"
   ]
  }
 ],
 "metadata": {
  "kernelspec": {
   "display_name": "didge",
   "language": "python",
   "name": "didge"
  },
  "language_info": {
   "codemirror_mode": {
    "name": "ipython",
    "version": 3
   },
   "file_extension": ".py",
   "mimetype": "text/x-python",
   "name": "python",
   "nbconvert_exporter": "python",
   "pygments_lexer": "ipython3",
   "version": "3.8.13"
  }
 },
 "nbformat": 4,
 "nbformat_minor": 4
}
