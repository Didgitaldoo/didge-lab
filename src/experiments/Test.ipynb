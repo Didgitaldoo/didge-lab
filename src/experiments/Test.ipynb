{
 "cells": [
  {
   "cell_type": "code",
   "execution_count": 1,
   "id": "fd73cf2c",
   "metadata": {},
   "outputs": [],
   "source": [
    "import numpy as np\n",
    "\n",
    "def get_closest_index(haystack, needle, offset=0):\n",
    "    if type(needle) == list:\n",
    "        return [get_closest_index(haystack, x) for x in needle]\n",
    "\n",
    "    d1=100000\n",
    "    d2=100000\n",
    "    for i in range(offset, len(haystack)):\n",
    "        d3 = np.abs(haystack[i]-needle)\n",
    "        if d2<d3:\n",
    "            if d1<d2:\n",
    "                return i-2\n",
    "            else:\n",
    "                return i-1\n",
    "        d1=d2\n",
    "        d2=d3\n",
    "    return i\n"
   ]
  },
  {
   "cell_type": "code",
   "execution_count": 4,
   "id": "449f1d80",
   "metadata": {},
   "outputs": [
    {
     "data": {
      "text/plain": [
       "199"
      ]
     },
     "execution_count": 4,
     "metadata": {},
     "output_type": "execute_result"
    }
   ],
   "source": [
    "h=np.arange(30, 200, 1)\n",
    "h[get_closest_index(h, 200)]"
   ]
  },
  {
   "cell_type": "code",
   "execution_count": 9,
   "id": "02cf5329",
   "metadata": {},
   "outputs": [
    {
     "data": {
      "text/plain": [
       "array([0, 1, 2, 3, 4, 5, 6, 7, 8, 9, 9, 8, 7, 6, 5, 4, 3, 2, 1, 0])"
      ]
     },
     "execution_count": 9,
     "metadata": {},
     "output_type": "execute_result"
    }
   ],
   "source": [
    "x=np.arange(10)\n",
    "np.concatenate((x, np.flip(x)))"
   ]
  }
 ],
 "metadata": {
  "kernelspec": {
   "display_name": "didge",
   "language": "python",
   "name": "didge"
  },
  "language_info": {
   "codemirror_mode": {
    "name": "ipython",
    "version": 3
   },
   "file_extension": ".py",
   "mimetype": "text/x-python",
   "name": "python",
   "nbconvert_exporter": "python",
   "pygments_lexer": "ipython3",
   "version": "3.10.9"
  }
 },
 "nbformat": 4,
 "nbformat_minor": 5
}
