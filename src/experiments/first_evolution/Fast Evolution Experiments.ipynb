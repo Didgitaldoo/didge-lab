{
 "cells": [
  {
   "cell_type": "code",
   "execution_count": 1,
   "id": "e6d178c3",
   "metadata": {},
   "outputs": [
    {
     "name": "stderr",
     "output_type": "stream",
     "text": [
      "2023-09-04 15:06:59,188 [INFO] {app.py:104} \n",
      " _____  _     _              _           _     \n",
      "|  __ \\(_)   | |            | |         | |    \n",
      "| |  | |_  __| | __ _  ___  | |     __ _| |__  \n",
      "| |  | | |/ _` |/ _` |/ _ \\ | |    / _` | '_ \\ \n",
      "| |__| | | (_| | (_| |  __/ | |___| (_| | |_) |\n",
      "|_____/|_|\\__,_|\\__, |\\___| |______\\__,_|_.__/ \n",
      "                 __/ |                         \n",
      "                |___/                          \n",
      "Starting /Users/jane03/miniconda3/envs/didge/lib/python3.10/site-packages/ipykernel_launcher.py -f /Users/jane03/Library/Jupyter/runtime/kernel-8401c976-b337-423f-8138-a7d0716bb476.json\n"
     ]
    }
   ],
   "source": [
    "import sys\n",
    "sys.path.append(\"..\")\n",
    "\n",
    "from didgelab.calc.sim.cadsd import CADSD\n",
    "from didgelab.calc.geo import Geo\n",
    "from didgelab.app import App\n",
    "from didgelab.initializer import init_console_no_output\n",
    "\n",
    "from time import time\n",
    "import numpy as np\n",
    "import pandas as pd\n",
    "import numpy as np\n",
    "\n",
    "init_console_no_output()"
   ]
  },
  {
   "cell_type": "code",
   "execution_count": 2,
   "id": "f378ecf1",
   "metadata": {},
   "outputs": [
    {
     "data": {
      "text/plain": [
       "{'sim.correction': 'svm',\n",
       " 'sim.resolution': 2,\n",
       " 'sim.fmin': 30,\n",
       " 'sim.fmax': 1000,\n",
       " 'n_threads': 8,\n",
       " 'log_level': 'info'}"
      ]
     },
     "execution_count": 2,
     "metadata": {},
     "output_type": "execute_result"
    }
   ],
   "source": [
    "App.get_config()"
   ]
  },
  {
   "cell_type": "code",
   "execution_count": 3,
   "id": "ad786080",
   "metadata": {},
   "outputs": [
    {
     "name": "stderr",
     "output_type": "stream",
     "text": [
      "100%|████████████████████████████████████████████████████████████████████████████████████████████████████████████████████████████████████████████████████████████████████▋| 599/600 [02:24<00:00, 21.28it/s]"
     ]
    }
   ],
   "source": [
    "from tqdm import tqdm\n",
    "\n",
    "resolutions = (1,2,4,8,16,32)\n",
    "num_segments = (2,5,20,50,100)\n",
    "\n",
    "df = pd.DataFrame(index=resolutions, columns=num_segments)\n",
    "n_tries = 20\n",
    "App.get_config()[\"sim.correction\"] = \"none\"\n",
    "\n",
    "pbar = tqdm(total=len(resolutions)*len(num_segments)*n_tries)\n",
    "for r in resolutions:\n",
    "    App.get_config()[\"sim.resolution\"] = r\n",
    "\n",
    "    for num in num_segments:\n",
    "        t=time()\n",
    "        for i in range(n_tries):\n",
    "            x = 2000*np.arange(0,1,1/num)\n",
    "            y = 32+35*np.arange(0,1,1/num)\n",
    "            geo = list(zip(x,y))\n",
    "            cadsd = Geo(geo).get_cadsd()\n",
    "            imp = cadsd.get_impedance_spektrum()\n",
    "            pbar.update(1)\n",
    "        t = (time()-t)/n_tries\n",
    "        df[num][r] = t\n",
    "        \n",
    "\n",
    "#df = df.round(2)\n"
   ]
  },
  {
   "cell_type": "code",
   "execution_count": 4,
   "id": "eedf7c8b",
   "metadata": {},
   "outputs": [
    {
     "data": {
      "text/plain": [
       "Text(0, 0.5, 'duration [s]')"
      ]
     },
     "execution_count": 4,
     "metadata": {},
     "output_type": "execute_result"
    },
    {
     "data": {
      "image/png": "[encoded data removed]",
      "text/plain": [
       "<Figure size 640x480 with 1 Axes>"
      ]
     },
     "metadata": {},
     "output_type": "display_data"
    }
   ],
   "source": [
    "import matplotlib.pyplot as plt\n",
    "for c in df.columns:\n",
    "    plt.plot(df.index, df[c], label=c)\n",
    "plt.legend(title=\"num segments\")\n",
    "plt.xlabel(\"resolution\")\n",
    "plt.xlabel(\"resolution\")\n",
    "plt.ylabel(\"duration [s]\")"
   ]
  },
  {
   "cell_type": "code",
   "execution_count": 27,
   "id": "a3c1e7b5",
   "metadata": {},
   "outputs": [
    {
     "data": {
      "text/html": [
       "<div>\n",
       "<style scoped>\n",
       "    .dataframe tbody tr th:only-of-type {\n",
       "        vertical-align: middle;\n",
       "    }\n",
       "\n",
       "    .dataframe tbody tr th {\n",
       "        vertical-align: top;\n",
       "    }\n",
       "\n",
       "    .dataframe thead th {\n",
       "        text-align: right;\n",
       "    }\n",
       "</style>\n",
       "<table border=\"1\" class=\"dataframe\">\n",
       "  <thead>\n",
       "    <tr style=\"text-align: right;\">\n",
       "      <th></th>\n",
       "      <th>2</th>\n",
       "      <th>5</th>\n",
       "      <th>20</th>\n",
       "      <th>50</th>\n",
       "      <th>100</th>\n",
       "    </tr>\n",
       "  </thead>\n",
       "  <tbody>\n",
       "    <tr>\n",
       "      <th>1</th>\n",
       "      <td>0.041726</td>\n",
       "      <td>0.103648</td>\n",
       "      <td>0.415834</td>\n",
       "      <td>1.040512</td>\n",
       "      <td>2.073504</td>\n",
       "    </tr>\n",
       "    <tr>\n",
       "      <th>2</th>\n",
       "      <td>0.020271</td>\n",
       "      <td>0.051623</td>\n",
       "      <td>0.207703</td>\n",
       "      <td>0.519496</td>\n",
       "      <td>1.038489</td>\n",
       "    </tr>\n",
       "    <tr>\n",
       "      <th>4</th>\n",
       "      <td>0.010319</td>\n",
       "      <td>0.026101</td>\n",
       "      <td>0.104164</td>\n",
       "      <td>0.259881</td>\n",
       "      <td>0.518767</td>\n",
       "    </tr>\n",
       "    <tr>\n",
       "      <th>8</th>\n",
       "      <td>0.005217</td>\n",
       "      <td>0.013152</td>\n",
       "      <td>0.052045</td>\n",
       "      <td>0.130033</td>\n",
       "      <td>0.259965</td>\n",
       "    </tr>\n",
       "    <tr>\n",
       "      <th>16</th>\n",
       "      <td>0.002647</td>\n",
       "      <td>0.006644</td>\n",
       "      <td>0.026122</td>\n",
       "      <td>0.066564</td>\n",
       "      <td>0.130254</td>\n",
       "    </tr>\n",
       "    <tr>\n",
       "      <th>32</th>\n",
       "      <td>0.001418</td>\n",
       "      <td>0.003412</td>\n",
       "      <td>0.013368</td>\n",
       "      <td>0.033122</td>\n",
       "      <td>0.066165</td>\n",
       "    </tr>\n",
       "  </tbody>\n",
       "</table>\n",
       "</div>"
      ],
      "text/plain": [
       "         2         5         20        50        100\n",
       "1   0.041726  0.103648  0.415834  1.040512  2.073504\n",
       "2   0.020271  0.051623  0.207703  0.519496  1.038489\n",
       "4   0.010319  0.026101  0.104164  0.259881  0.518767\n",
       "8   0.005217  0.013152  0.052045  0.130033  0.259965\n",
       "16  0.002647  0.006644  0.026122  0.066564  0.130254\n",
       "32  0.001418  0.003412  0.013368  0.033122  0.066165"
      ]
     },
     "execution_count": 27,
     "metadata": {},
     "output_type": "execute_result"
    }
   ],
   "source": [
    "df"
   ]
  },
  {
   "cell_type": "code",
   "execution_count": 28,
   "id": "ef6556c1",
   "metadata": {},
   "outputs": [
    {
     "data": {
      "text/html": [
       "<div>\n",
       "<style scoped>\n",
       "    .dataframe tbody tr th:only-of-type {\n",
       "        vertical-align: middle;\n",
       "    }\n",
       "\n",
       "    .dataframe tbody tr th {\n",
       "        vertical-align: top;\n",
       "    }\n",
       "\n",
       "    .dataframe thead th {\n",
       "        text-align: right;\n",
       "    }\n",
       "</style>\n",
       "<table border=\"1\" class=\"dataframe\">\n",
       "  <thead>\n",
       "    <tr style=\"text-align: right;\">\n",
       "      <th></th>\n",
       "      <th>2</th>\n",
       "      <th>5</th>\n",
       "      <th>20</th>\n",
       "      <th>50</th>\n",
       "      <th>100</th>\n",
       "    </tr>\n",
       "  </thead>\n",
       "  <tbody>\n",
       "    <tr>\n",
       "      <th>1</th>\n",
       "      <td>0.041726</td>\n",
       "      <td>0.103648</td>\n",
       "      <td>0.415834</td>\n",
       "      <td>1.040512</td>\n",
       "      <td>2.073504</td>\n",
       "    </tr>\n",
       "    <tr>\n",
       "      <th>2</th>\n",
       "      <td>0.040542</td>\n",
       "      <td>0.103247</td>\n",
       "      <td>0.415406</td>\n",
       "      <td>1.038992</td>\n",
       "      <td>2.076977</td>\n",
       "    </tr>\n",
       "    <tr>\n",
       "      <th>4</th>\n",
       "      <td>0.041277</td>\n",
       "      <td>0.104402</td>\n",
       "      <td>0.416654</td>\n",
       "      <td>1.039526</td>\n",
       "      <td>2.075068</td>\n",
       "    </tr>\n",
       "    <tr>\n",
       "      <th>8</th>\n",
       "      <td>0.041738</td>\n",
       "      <td>0.105219</td>\n",
       "      <td>0.416362</td>\n",
       "      <td>1.040266</td>\n",
       "      <td>2.079722</td>\n",
       "    </tr>\n",
       "    <tr>\n",
       "      <th>16</th>\n",
       "      <td>0.042345</td>\n",
       "      <td>0.106304</td>\n",
       "      <td>0.417953</td>\n",
       "      <td>1.065028</td>\n",
       "      <td>2.084067</td>\n",
       "    </tr>\n",
       "    <tr>\n",
       "      <th>32</th>\n",
       "      <td>0.045375</td>\n",
       "      <td>0.109186</td>\n",
       "      <td>0.42779</td>\n",
       "      <td>1.059909</td>\n",
       "      <td>2.117269</td>\n",
       "    </tr>\n",
       "  </tbody>\n",
       "</table>\n",
       "</div>"
      ],
      "text/plain": [
       "         2         5         20        50        100\n",
       "1   0.041726  0.103648  0.415834  1.040512  2.073504\n",
       "2   0.040542  0.103247  0.415406  1.038992  2.076977\n",
       "4   0.041277  0.104402  0.416654  1.039526  2.075068\n",
       "8   0.041738  0.105219  0.416362  1.040266  2.079722\n",
       "16  0.042345  0.106304  0.417953  1.065028  2.084067\n",
       "32  0.045375  0.109186   0.42779  1.059909  2.117269"
      ]
     },
     "execution_count": 28,
     "metadata": {},
     "output_type": "execute_result"
    }
   ],
   "source": [
    "# duration scales linearly with the resolution\n",
    "_df = df.copy()\n",
    "for c in _df.columns:\n",
    "    _df[c] *= _df.index\n",
    "_df"
   ]
  },
  {
   "cell_type": "code",
   "execution_count": 34,
   "id": "ca50e9f9",
   "metadata": {},
   "outputs": [
    {
     "data": {
      "text/html": [
       "<div>\n",
       "<style scoped>\n",
       "    .dataframe tbody tr th:only-of-type {\n",
       "        vertical-align: middle;\n",
       "    }\n",
       "\n",
       "    .dataframe tbody tr th {\n",
       "        vertical-align: top;\n",
       "    }\n",
       "\n",
       "    .dataframe thead th {\n",
       "        text-align: right;\n",
       "    }\n",
       "</style>\n",
       "<table border=\"1\" class=\"dataframe\">\n",
       "  <thead>\n",
       "    <tr style=\"text-align: right;\">\n",
       "      <th></th>\n",
       "      <th>2</th>\n",
       "      <th>5</th>\n",
       "      <th>20</th>\n",
       "      <th>50</th>\n",
       "      <th>100</th>\n",
       "    </tr>\n",
       "  </thead>\n",
       "  <tbody>\n",
       "    <tr>\n",
       "      <th>1</th>\n",
       "      <td>0.020863</td>\n",
       "      <td>0.02073</td>\n",
       "      <td>0.020792</td>\n",
       "      <td>0.02081</td>\n",
       "      <td>0.020735</td>\n",
       "    </tr>\n",
       "    <tr>\n",
       "      <th>2</th>\n",
       "      <td>0.010136</td>\n",
       "      <td>0.010325</td>\n",
       "      <td>0.010385</td>\n",
       "      <td>0.01039</td>\n",
       "      <td>0.010385</td>\n",
       "    </tr>\n",
       "    <tr>\n",
       "      <th>4</th>\n",
       "      <td>0.00516</td>\n",
       "      <td>0.00522</td>\n",
       "      <td>0.005208</td>\n",
       "      <td>0.005198</td>\n",
       "      <td>0.005188</td>\n",
       "    </tr>\n",
       "    <tr>\n",
       "      <th>8</th>\n",
       "      <td>0.002609</td>\n",
       "      <td>0.00263</td>\n",
       "      <td>0.002602</td>\n",
       "      <td>0.002601</td>\n",
       "      <td>0.0026</td>\n",
       "    </tr>\n",
       "    <tr>\n",
       "      <th>16</th>\n",
       "      <td>0.001323</td>\n",
       "      <td>0.001329</td>\n",
       "      <td>0.001306</td>\n",
       "      <td>0.001331</td>\n",
       "      <td>0.001303</td>\n",
       "    </tr>\n",
       "    <tr>\n",
       "      <th>32</th>\n",
       "      <td>0.000709</td>\n",
       "      <td>0.000682</td>\n",
       "      <td>0.000668</td>\n",
       "      <td>0.000662</td>\n",
       "      <td>0.000662</td>\n",
       "    </tr>\n",
       "  </tbody>\n",
       "</table>\n",
       "</div>"
      ],
      "text/plain": [
       "         2         5         20        50        100\n",
       "1   0.020863   0.02073  0.020792   0.02081  0.020735\n",
       "2   0.010136  0.010325  0.010385   0.01039  0.010385\n",
       "4    0.00516   0.00522  0.005208  0.005198  0.005188\n",
       "8   0.002609   0.00263  0.002602  0.002601    0.0026\n",
       "16  0.001323  0.001329  0.001306  0.001331  0.001303\n",
       "32  0.000709  0.000682  0.000668  0.000662  0.000662"
      ]
     },
     "execution_count": 34,
     "metadata": {},
     "output_type": "execute_result"
    }
   ],
   "source": [
    "# duration scales linearly with the number of segments\n",
    "_df = df.copy()\n",
    "for c in _df.columns:\n",
    "    _df[c] /= c\n",
    "_df"
   ]
  }
 ],
 "metadata": {
  "kernelspec": {
   "display_name": "didge",
   "language": "python",
   "name": "didge"
  },
  "language_info": {
   "codemirror_mode": {
    "name": "ipython",
    "version": 3
   },
   "file_extension": ".py",
   "mimetype": "text/x-python",
   "name": "python",
   "nbconvert_exporter": "python",
   "pygments_lexer": "ipython3",
   "version": "3.10.9"
  }
 },
 "nbformat": 4,
 "nbformat_minor": 5
}
