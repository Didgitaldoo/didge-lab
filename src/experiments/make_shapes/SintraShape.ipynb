{
 "cells": [
  {
   "cell_type": "code",
   "execution_count": 1,
   "id": "fdaae349",
   "metadata": {},
   "outputs": [],
   "source": [
    "import sys\n",
    "# add didgelab source code to path\n",
    "sys.path.append('../../')\n",
    "\n",
    "from cad.calc.parameters import MutationParameterSet, MutationParameter\n",
    "from cad.ui.visualization import DidgeVisualizer\n",
    "import numpy as np\n",
    "from cad.calc.geo import Geo, geotools\n",
    "import sys\n",
    "import random"
   ]
  },
  {
   "cell_type": "code",
   "execution_count": 139,
   "id": "e92ce964",
   "metadata": {},
   "outputs": [
    {
     "name": "stderr",
     "output_type": "stream",
     "text": [
      "\n",
      "100%|███████████████████████████████████████████████████| 50/50 [15:08:14<00:00, 1089.90s/it]\u001b[A\n",
      "\n",
      "  4%|██▎                                                      | 2/50 [00:00<00:04, 11.99it/s]\u001b[A\n",
      "  8%|████▌                                                    | 4/50 [00:00<00:03, 13.25it/s]\u001b[A\n",
      " 12%|██████▊                                                  | 6/50 [00:00<00:03, 13.69it/s]\u001b[A\n",
      " 16%|█████████                                                | 8/50 [00:00<00:03, 13.88it/s]\u001b[A\n",
      " 20%|███████████▏                                            | 10/50 [00:00<00:02, 13.97it/s]\u001b[A\n",
      " 24%|█████████████▍                                          | 12/50 [00:00<00:02, 14.04it/s]\u001b[A\n",
      " 28%|███████████████▋                                        | 14/50 [00:01<00:02, 13.99it/s]\u001b[A\n",
      " 32%|█████████████████▉                                      | 16/50 [00:01<00:02, 14.05it/s]\u001b[A\n",
      " 36%|████████████████████▏                                   | 18/50 [00:01<00:02, 14.05it/s]\u001b[A\n",
      " 40%|██████████████████████▍                                 | 20/50 [00:01<00:02, 14.11it/s]\u001b[A\n",
      " 44%|████████████████████████▋                               | 22/50 [00:01<00:01, 14.12it/s]\u001b[A\n",
      " 48%|██████████████████████████▉                             | 24/50 [00:01<00:01, 14.14it/s]\u001b[A\n",
      " 52%|█████████████████████████████                           | 26/50 [00:01<00:01, 14.13it/s]\u001b[A\n",
      " 56%|███████████████████████████████▎                        | 28/50 [00:02<00:01, 14.20it/s]\u001b[A\n",
      " 60%|█████████████████████████████████▌                      | 30/50 [00:02<00:01, 14.21it/s]\u001b[A\n",
      " 64%|███████████████████████████████████▊                    | 32/50 [00:02<00:01, 14.25it/s]\u001b[A\n",
      " 68%|██████████████████████████████████████                  | 34/50 [00:02<00:01, 14.30it/s]\u001b[A\n",
      " 72%|████████████████████████████████████████▎               | 36/50 [00:02<00:00, 14.27it/s]\u001b[A\n",
      " 76%|██████████████████████████████████████████▌             | 38/50 [00:02<00:00, 14.30it/s]\u001b[A\n",
      " 80%|████████████████████████████████████████████▊           | 40/50 [00:02<00:00, 14.31it/s]\u001b[A\n",
      " 84%|███████████████████████████████████████████████         | 42/50 [00:02<00:00, 14.29it/s]\u001b[A\n",
      " 88%|█████████████████████████████████████████████████▎      | 44/50 [00:03<00:00, 14.22it/s]\u001b[A\n",
      " 92%|███████████████████████████████████████████████████▌    | 46/50 [00:03<00:00, 14.20it/s]\u001b[A\n",
      " 96%|█████████████████████████████████████████████████████▊  | 48/50 [00:03<00:00, 14.21it/s]\u001b[A\n",
      "100%|████████████████████████████████████████████████████████| 50/50 [00:03<00:00, 14.17it/s]\u001b[A"
     ]
    },
    {
     "data": {
      "text/plain": [
       "C1     21\n",
       "D1     16\n",
       "C#1    11\n",
       "D#1     2\n",
       "Name: note-name, dtype: int64"
      ]
     },
     "execution_count": 139,
     "metadata": {},
     "output_type": "execute_result"
    }
   ],
   "source": [
    "class SintraShape(MutationParameterSet):\n",
    "    \n",
    "    def __init__(self):\n",
    "        \n",
    "        MutationParameterSet.__init__(self)\n",
    "\n",
    "        self.d1=32\n",
    "        self.n_segments = 10\n",
    "        \n",
    "        self.add_param(\"length\", 1520, 1600)\n",
    "        self.add_param(\"bellsize\", 65, 80)\n",
    "        self.add_param(\"power\", 1,2)\n",
    "        \n",
    "        \n",
    "\n",
    "    def make_geo(self):\n",
    "        length = self.get_value(\"length\")\n",
    "        bellsize = self.get_value(\"bellsize\")\n",
    "\n",
    "        x = length*np.arange(self.n_segments+1)/self.n_segments\n",
    "    \n",
    "        y= np.arange(self.n_segments+1)/self.n_segments\n",
    "        p = self.get_value(\"power\")\n",
    "        y = np.power(y, p)\n",
    "        y = np.power(y, p)\n",
    "        y = np.power(y, p)\n",
    "        y = self.d1 + y*(bellsize - self.d1)\n",
    "        \n",
    "        geo = list(zip(x,y))\n",
    "        \n",
    "        return Geo(geo)\n",
    "        \n",
    "father = SintraShape()\n",
    "#geo = father.make_geo()\n",
    "#DidgeVisualizer.vis_didge(geo)\n",
    "\n",
    "\n",
    "# compute 50 cadsds and get the distribution of their fundamental notes\n",
    "from cad.calc.mutation import ExploringMutator\n",
    "import pandas as pd\n",
    "import tqdm\n",
    "mutator = ExploringMutator()\n",
    "\n",
    "mutants = []\n",
    "geos = []\n",
    "\n",
    "n=50\n",
    "pbar = tqdm.tqdm(total=n)\n",
    "for i in range(n):\n",
    "    mutant = father.copy()\n",
    "    mutator.mutate(mutant)\n",
    "    mutants.append(mutant)\n",
    "    geo = mutant.make_geo()\n",
    "    geos.append(geo)\n",
    "    geo.get_cadsd().get_notes()\n",
    "    pbar.update()\n",
    "    \n",
    "from cad.calc.conv import note_to_freq\n",
    "\n",
    "fD = note_to_freq(-31)\n",
    "\n",
    "def get_closest_note(geo, f):\n",
    "    notes = geo.get_cadsd().get_notes()\n",
    "    freqs = np.abs(np.log2(notes.freq) - np.log2(f))\n",
    "    return notes.iloc[np.argmin(freqs)]\n",
    "\n",
    "fundamentals = [get_closest_note(g, fD) for g in geos]\n",
    "fundamentals = pd.DataFrame(fundamentals)\n",
    "fundamentals[\"note-name\"].value_counts()"
   ]
  },
  {
   "cell_type": "code",
   "execution_count": 34,
   "id": "99482a8e",
   "metadata": {},
   "outputs": [
    {
     "data": {
      "text/plain": [
       "<AxesSubplot: xlabel='length', ylabel='note-name'>"
      ]
     },
     "execution_count": 34,
     "metadata": {},
     "output_type": "execute_result"
    },
    {
     "data": {
      "image/png": "[encoded data removed]",
      "text/plain": [
       "<Figure size 1500x300 with 1 Axes>"
      ]
     },
     "metadata": {},
     "output_type": "display_data"
    },
    {
     "name": "stderr",
     "output_type": "stream",
     "text": [
      "\r",
      "100%|████████████████████████████████████████████████████████| 50/50 [00:22<00:00, 14.32it/s]"
     ]
    }
   ],
   "source": [
    "import seaborn as sns\n",
    "fundamentals[\"length\"] = [g.geo[-1][0] for g in geos]\n",
    "sns.boxplot(data=fundamentals, x=\"length\", y=\"note-name\")"
   ]
  },
  {
   "cell_type": "code",
   "execution_count": null,
   "id": "5bc46027",
   "metadata": {},
   "outputs": [],
   "source": []
  },
  {
   "cell_type": "code",
   "execution_count": 134,
   "id": "31cffafe",
   "metadata": {},
   "outputs": [
    {
     "data": {
      "text/plain": [
       "{'loss': 2.8000272194967684,\n",
       " 'fundamental_loss': 1.3829868927721378,\n",
       " 'toots_loss': 0.7760325684023384,\n",
       " 'multiple_loss': 0.6410077583222922}"
      ]
     },
     "execution_count": 134,
     "metadata": {},
     "output_type": "execute_result"
    }
   ],
   "source": [
    "from cad.calc.loss import LossFunction\n",
    "from cad.calc.conv import note_to_freq\n",
    "\n",
    "class SintraLoss(LossFunction):\n",
    "        \n",
    "    def __init__(self):\n",
    "        LossFunction.__init__(self)\n",
    "        \n",
    "        base_note = -31\n",
    "        self.target_notes = np.array([0,16,24])+base_note\n",
    "        self.target_freqs = np.log2(note_to_freq(self.target_notes))\n",
    "        self.multiples = np.arange(1,15)*note_to_freq(base_note)\n",
    "\n",
    "    def get_deviations(self, freq, reference):\n",
    "        \n",
    "        deviations = []\n",
    "        for f in freq:\n",
    "            d = [np.abs(r-f) for r in reference]\n",
    "            deviations.append(np.min(d))\n",
    "        return deviations\n",
    "        \n",
    "    def get_loss(self, geo, context=None):\n",
    "        \n",
    "        notes = geo.get_cadsd().get_notes()\n",
    "        freqs = np.log2(list(notes.freq))\n",
    "        toots = freqs[0:3]\n",
    "        others = freqs[3:]\n",
    "        \n",
    "        deviations = self.get_deviations(toots, self.target_freqs)\n",
    "        fundamental_loss = deviations[0]\n",
    "        fundamental_loss *= 30\n",
    "        toots_loss = np.sum(deviations[1:])/2\n",
    "        toots_loss *= 10\n",
    "\n",
    "        deviations = self.get_deviations(others, self.multiples)\n",
    "        multiple_loss = (np.sum(deviations) / len(deviations))\n",
    "        multiple_loss = multiple_loss/100\n",
    "        \n",
    "        loss = {\n",
    "            \"loss\": fundamental_loss + toots_loss + multiple_loss,\n",
    "            \"fundamental_loss\": fundamental_loss,\n",
    "            \"toots_loss\": toots_loss,\n",
    "            \"multiple_loss\": multiple_loss\n",
    "        }\n",
    "        return loss\n",
    "        \n",
    "loss = SintraLoss()\n",
    "loss.get_loss(geos[0])"
   ]
  },
  {
   "cell_type": "code",
   "execution_count": 135,
   "id": "58bd85c7",
   "metadata": {},
   "outputs": [
    {
     "name": "stderr",
     "output_type": "stream",
     "text": [
      "100%|████████████████████████████████████████████████████████| 50/50 [00:57<00:00,  1.15s/it]\n",
      " 98%|██████████████████████████████████████████████████████▉ | 49/50 [00:03<00:00, 14.17it/s]"
     ]
    }
   ],
   "source": [
    "pbar = tqdm.tqdm(total=n)\n",
    "geos = []\n",
    "losses = []\n",
    "for i in range(n):\n",
    "    mutant = father.copy()\n",
    "    mutator.mutate(mutant)\n",
    "    mutants.append(mutant)\n",
    "\n",
    "    geo = mutant.make_geo()\n",
    "    losses.append(loss.get_loss(geo))\n",
    "    geos.append(geo)\n",
    "    pbar.update()\n",
    "    "
   ]
  },
  {
   "cell_type": "code",
   "execution_count": 136,
   "id": "03ff812c",
   "metadata": {},
   "outputs": [
    {
     "data": {
      "text/plain": [
       "{'loss': 1.4505849462769134,\n",
       " 'fundamental_loss': 0.04937893935120563,\n",
       " 'toots_loss': 0.760081388231657,\n",
       " 'multiple_loss': 0.6411246186940508}"
      ]
     },
     "execution_count": 136,
     "metadata": {},
     "output_type": "execute_result"
    }
   ],
   "source": [
    "mini = np.argmin([l[\"loss\"] for l in losses])\n",
    "losses[mini]"
   ]
  },
  {
   "cell_type": "code",
   "execution_count": 137,
   "id": "ec22ce61",
   "metadata": {},
   "outputs": [
    {
     "data": {
      "text/html": [
       "<div>\n",
       "<style scoped>\n",
       "    .dataframe tbody tr th:only-of-type {\n",
       "        vertical-align: middle;\n",
       "    }\n",
       "\n",
       "    .dataframe tbody tr th {\n",
       "        vertical-align: top;\n",
       "    }\n",
       "\n",
       "    .dataframe thead th {\n",
       "        text-align: right;\n",
       "    }\n",
       "</style>\n",
       "<table border=\"1\" class=\"dataframe\">\n",
       "  <thead>\n",
       "    <tr style=\"text-align: right;\">\n",
       "      <th></th>\n",
       "      <th>freq</th>\n",
       "      <th>impedance</th>\n",
       "      <th>rel_imp</th>\n",
       "      <th>note-number</th>\n",
       "      <th>cent-diff</th>\n",
       "      <th>note-name</th>\n",
       "    </tr>\n",
       "  </thead>\n",
       "  <tbody>\n",
       "    <tr>\n",
       "      <th>1694</th>\n",
       "      <td>73.5</td>\n",
       "      <td>2.879490e+07</td>\n",
       "      <td>1.000000</td>\n",
       "      <td>-31</td>\n",
       "      <td>-1.975158</td>\n",
       "      <td>D1</td>\n",
       "    </tr>\n",
       "    <tr>\n",
       "      <th>144</th>\n",
       "      <td>174.0</td>\n",
       "      <td>8.599337e+06</td>\n",
       "      <td>0.298641</td>\n",
       "      <td>-16</td>\n",
       "      <td>6.099461</td>\n",
       "      <td>F2</td>\n",
       "    </tr>\n",
       "    <tr>\n",
       "      <th>251</th>\n",
       "      <td>281.0</td>\n",
       "      <td>4.245925e+06</td>\n",
       "      <td>0.147454</td>\n",
       "      <td>-8</td>\n",
       "      <td>-23.679928</td>\n",
       "      <td>C#3</td>\n",
       "    </tr>\n",
       "    <tr>\n",
       "      <th>360</th>\n",
       "      <td>390.0</td>\n",
       "      <td>2.459066e+06</td>\n",
       "      <td>0.085399</td>\n",
       "      <td>-2</td>\n",
       "      <td>8.835280</td>\n",
       "      <td>G3</td>\n",
       "    </tr>\n",
       "    <tr>\n",
       "      <th>469</th>\n",
       "      <td>499.0</td>\n",
       "      <td>1.598238e+06</td>\n",
       "      <td>0.055504</td>\n",
       "      <td>2</td>\n",
       "      <td>-17.843550</td>\n",
       "      <td>B4</td>\n",
       "    </tr>\n",
       "    <tr>\n",
       "      <th>578</th>\n",
       "      <td>608.0</td>\n",
       "      <td>1.120977e+06</td>\n",
       "      <td>0.038930</td>\n",
       "      <td>6</td>\n",
       "      <td>40.118640</td>\n",
       "      <td>D#4</td>\n",
       "    </tr>\n",
       "    <tr>\n",
       "      <th>688</th>\n",
       "      <td>718.0</td>\n",
       "      <td>8.328412e+05</td>\n",
       "      <td>0.028923</td>\n",
       "      <td>8</td>\n",
       "      <td>-47.776384</td>\n",
       "      <td>F4</td>\n",
       "    </tr>\n",
       "    <tr>\n",
       "      <th>795</th>\n",
       "      <td>825.0</td>\n",
       "      <td>6.473542e+05</td>\n",
       "      <td>0.022482</td>\n",
       "      <td>11</td>\n",
       "      <td>11.731285</td>\n",
       "      <td>G#4</td>\n",
       "    </tr>\n",
       "    <tr>\n",
       "      <th>879</th>\n",
       "      <td>909.0</td>\n",
       "      <td>5.605515e+05</td>\n",
       "      <td>0.019467</td>\n",
       "      <td>13</td>\n",
       "      <td>43.867875</td>\n",
       "      <td>A#5</td>\n",
       "    </tr>\n",
       "  </tbody>\n",
       "</table>\n",
       "</div>"
      ],
      "text/plain": [
       "       freq     impedance   rel_imp  note-number  cent-diff note-name\n",
       "1694   73.5  2.879490e+07  1.000000          -31  -1.975158        D1\n",
       "144   174.0  8.599337e+06  0.298641          -16   6.099461        F2\n",
       "251   281.0  4.245925e+06  0.147454           -8 -23.679928       C#3\n",
       "360   390.0  2.459066e+06  0.085399           -2   8.835280        G3\n",
       "469   499.0  1.598238e+06  0.055504            2 -17.843550        B4\n",
       "578   608.0  1.120977e+06  0.038930            6  40.118640       D#4\n",
       "688   718.0  8.328412e+05  0.028923            8 -47.776384        F4\n",
       "795   825.0  6.473542e+05  0.022482           11  11.731285       G#4\n",
       "879   909.0  5.605515e+05  0.019467           13  43.867875       A#5"
      ]
     },
     "execution_count": 137,
     "metadata": {},
     "output_type": "execute_result"
    },
    {
     "name": "stderr",
     "output_type": "stream",
     "text": [
      "\r",
      "100%|████████████████████████████████████████████████████████| 50/50 [00:23<00:00, 14.17it/s]"
     ]
    }
   ],
   "source": [
    "geos[mini].get_cadsd().get_notes()\n"
   ]
  },
  {
   "cell_type": "code",
   "execution_count": 7,
   "id": "89cb5729",
   "metadata": {},
   "outputs": [
    {
     "name": "stderr",
     "output_type": "stream",
     "text": [
      "\n",
      "  0%|                                                                   | 0/50 [00:22<?, ?it/s]\u001b[A\n",
      "\n",
      "  2%|█▏                                                         | 1/50 [00:00<00:05,  9.14it/s]\u001b[A\n",
      "  6%|███▌                                                       | 3/50 [00:00<00:03, 12.37it/s]\u001b[A\n",
      " 10%|█████▉                                                     | 5/50 [00:00<00:03, 13.11it/s]\u001b[A\n",
      " 14%|████████▎                                                  | 7/50 [00:00<00:03, 13.56it/s]\u001b[A\n",
      " 18%|██████████▌                                                | 9/50 [00:00<00:02, 13.74it/s]\u001b[A\n",
      " 22%|████████████▊                                             | 11/50 [00:00<00:02, 13.79it/s]\u001b[A\n",
      " 26%|███████████████                                           | 13/50 [00:00<00:02, 13.76it/s]\u001b[A\n",
      " 30%|█████████████████▍                                        | 15/50 [00:01<00:02, 13.89it/s]\u001b[A\n",
      " 34%|███████████████████▋                                      | 17/50 [00:01<00:02, 13.99it/s]\u001b[A\n",
      " 38%|██████████████████████                                    | 19/50 [00:01<00:02, 14.05it/s]\u001b[A\n",
      " 42%|████████████████████████▎                                 | 21/50 [00:01<00:02, 13.99it/s]\u001b[A\n",
      " 46%|██████████████████████████▋                               | 23/50 [00:01<00:01, 14.03it/s]\u001b[A\n",
      " 50%|█████████████████████████████                             | 25/50 [00:01<00:01, 14.06it/s]\u001b[A\n",
      " 54%|███████████████████████████████▎                          | 27/50 [00:01<00:01, 14.06it/s]\u001b[A\n",
      " 58%|█████████████████████████████████▋                        | 29/50 [00:02<00:01, 14.07it/s]\u001b[A\n",
      " 62%|███████████████████████████████████▉                      | 31/50 [00:02<00:01, 14.04it/s]\u001b[A\n",
      " 66%|██████████████████████████████████████▎                   | 33/50 [00:02<00:01, 13.94it/s]\u001b[A\n",
      " 70%|████████████████████████████████████████▌                 | 35/50 [00:02<00:01, 13.82it/s]\u001b[A\n",
      " 74%|██████████████████████████████████████████▉               | 37/50 [00:02<00:00, 13.80it/s]\u001b[A\n",
      " 78%|█████████████████████████████████████████████▏            | 39/50 [00:02<00:00, 13.85it/s]\u001b[A\n",
      " 82%|███████████████████████████████████████████████▌          | 41/50 [00:02<00:00, 13.87it/s]\u001b[A\n",
      " 86%|█████████████████████████████████████████████████▉        | 43/50 [00:03<00:00, 13.84it/s]\u001b[A\n",
      " 90%|████████████████████████████████████████████████████▏     | 45/50 [00:03<00:00, 13.85it/s]\u001b[A\n",
      " 94%|██████████████████████████████████████████████████████▌   | 47/50 [00:03<00:00, 13.79it/s]\u001b[A\n",
      " 98%|████████████████████████████████████████████████████████▊ | 49/50 [00:03<00:00, 13.71it/s]\u001b[A"
     ]
    },
    {
     "data": {
      "text/plain": [
       "B1     19\n",
       "C1     12\n",
       "D1      8\n",
       "A#1     6\n",
       "D#1     3\n",
       "C#1     2\n",
       "Name: note-name, dtype: int64"
      ]
     },
     "execution_count": 7,
     "metadata": {},
     "output_type": "execute_result"
    },
    {
     "name": "stderr",
     "output_type": "stream",
     "text": [
      "\n",
      "100%|██████████████████████████████████████████████████████████| 50/50 [00:17<00:00, 13.71it/s]\u001b[A"
     ]
    }
   ],
   "source": [
    "# compute 50 cadsds and get the distribution of their fundamental notes\n",
    "from cad.calc.mutation import ExploringMutator\n",
    "import pandas as pd\n",
    "import tqdm\n",
    "mutator = ExploringMutator()\n",
    "\n",
    "mutants = []\n",
    "geos = []\n",
    "\n",
    "n=50\n",
    "pbar = tqdm.tqdm(total=n)\n",
    "for i in range(n):\n",
    "    mutant = father.copy()\n",
    "    mutator.mutate(mutant)\n",
    "    mutants.append(mutant)\n",
    "    geo = mutant.make_geo()\n",
    "    geos.append(geo)\n",
    "    geo.get_cadsd().get_notes()\n",
    "    pbar.update()\n",
    "    \n",
    "from cad.calc.conv import note_to_freq\n",
    "\n",
    "fD = note_to_freq(-31)\n",
    "\n",
    "def get_closest_note(geo, f):\n",
    "    notes = geo.get_cadsd().get_notes()\n",
    "    freqs = np.abs(np.log2(notes.freq) - np.log2(f))\n",
    "    return notes.iloc[np.argmin(freqs)]\n",
    "\n",
    "fundamentals = [get_closest_note(g, fD) for g in geos]\n",
    "fundamentals = pd.DataFrame(fundamentals)\n",
    "fundamentals[\"note-name\"].value_counts()"
   ]
  },
  {
   "cell_type": "code",
   "execution_count": 6,
   "id": "8bde77e3",
   "metadata": {},
   "outputs": [
    {
     "data": {
      "text/plain": [
       "<AxesSubplot: >"
      ]
     },
     "execution_count": 6,
     "metadata": {},
     "output_type": "execute_result"
    },
    {
     "data": {
      "image/png": "[encoded data removed]",
      "text/plain": [
       "<Figure size 640x480 with 1 Axes>"
      ]
     },
     "metadata": {},
     "output_type": "display_data"
    }
   ],
   "source": [
    "import pickle\n",
    "from cad.calc.parameters import SintraShape\n",
    "pkl = \"../../../../evolutions/sintra2/results/1.pkl\"\n",
    "data = pickle.load(open(pkl, \"rb\"))\n",
    "\n",
    "l=[]\n",
    "for i in range(20):\n",
    "    geo = data.get(i).geo\n",
    "    l.append(geo.geo[-1][0])\n",
    "    \n",
    "import seaborn as sns\n",
    "\n",
    "sns.boxplot(l)"
   ]
  },
  {
   "cell_type": "code",
   "execution_count": null,
   "id": "8f42005c",
   "metadata": {},
   "outputs": [],
   "source": []
  }
 ],
 "metadata": {
  "kernelspec": {
   "display_name": "didge",
   "language": "python",
   "name": "didge"
  },
  "language_info": {
   "codemirror_mode": {
    "name": "ipython",
    "version": 3
   },
   "file_extension": ".py",
   "mimetype": "text/x-python",
   "name": "python",
   "nbconvert_exporter": "python",
   "pygments_lexer": "ipython3",
   "version": "3.10.9"
  }
 },
 "nbformat": 4,
 "nbformat_minor": 5
}
