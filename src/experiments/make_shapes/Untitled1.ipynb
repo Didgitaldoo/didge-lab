{
 "cells": [
  {
   "cell_type": "code",
   "execution_count": 1,
   "id": "dabca716",
   "metadata": {},
   "outputs": [],
   "source": [
    "import sys\n",
    "sys.path.append(\"../../\")"
   ]
  },
  {
   "cell_type": "code",
   "execution_count": 3,
   "id": "24076258",
   "metadata": {},
   "outputs": [],
   "source": [
    "from cad.calc.parameters import NazareShape\n",
    "from cad.calc.loss import LossFunction\n",
    "import numpy as np\n",
    "from cad.calc.conv import note_to_freq\n",
    "from cad.calc.geo import Geo"
   ]
  },
  {
   "cell_type": "code",
   "execution_count": 19,
   "id": "bb42cf8c",
   "metadata": {},
   "outputs": [
    {
     "data": {
      "text/plain": [
       "{'loss': 0.7571635113379838,\n",
       " 'fundamental_loss': 0.12113507740126295,\n",
       " 'toots_loss': 0.22173074400440385,\n",
       " 'brightness_loss': 0.41429768993231697}"
      ]
     },
     "execution_count": 19,
     "metadata": {},
     "output_type": "execute_result"
    }
   ],
   "source": [
    "class SintraLoss(LossFunction):\n",
    "        \n",
    "    def __init__(self):\n",
    "        LossFunction.__init__(self)\n",
    "        \n",
    "        base_note = -31\n",
    "        self.target_notes = base_note + np.concatenate([np.array((0,4,7)) + 12*n for n in range(0,5)])\n",
    "        self.target_freqs = np.log2(note_to_freq(self.target_notes))\n",
    "        #self.multiples = np.arange(1,15)*note_to_freq(base_note)\n",
    "\n",
    "    def get_brightness(self, geo):\n",
    "        imp = geo.get_cadsd().get_impedance_spektrum()\n",
    "        return (imp.query(\"freq>=400\")).impedance.sum() / imp.impedance.sum()\n",
    "\n",
    "    def get_deviations(self, freq, reference):\n",
    "        \n",
    "        deviations = []\n",
    "        for f in freq:\n",
    "            d = [np.abs(r-f) for r in reference]\n",
    "            deviations.append(np.min(d))\n",
    "        return deviations\n",
    "        \n",
    "    def get_loss(self, geo, context=None):\n",
    "        \n",
    "        notes = geo.get_cadsd().get_notes()\n",
    "        freqs = np.log2(list(notes.freq))\n",
    "        toots = freqs\n",
    "        \n",
    "        deviations = self.get_deviations(toots, self.target_freqs)\n",
    "        fundamental_loss = deviations[0]\n",
    "        fundamental_loss *= 3\n",
    "        toots_loss = np.sum(deviations[1:] / np.arange(1, len(deviations[1:])+1))\n",
    "        toots_loss *= 1\n",
    "\n",
    "        brightness_loss = self.get_brightness(geo)\n",
    "        brightness_loss *= 1\n",
    "        \n",
    "        loss = {\n",
    "            \"loss\": fundamental_loss + toots_loss + brightness_loss,\n",
    "            \"fundamental_loss\": fundamental_loss,\n",
    "            \"toots_loss\": toots_loss,\n",
    "            \"brightness_loss\": brightness_loss\n",
    "        }\n",
    "        return loss\n",
    "    \n",
    "loss = SintraLoss()\n",
    "shape = NazareShape()\n",
    "loss(shape.make_geo())"
   ]
  },
  {
   "cell_type": "code",
   "execution_count": 13,
   "id": "fb5a61a4",
   "metadata": {},
   "outputs": [
    {
     "data": {
      "text/plain": [
       "array([1., 2., 3., 4., 5.])"
      ]
     },
     "execution_count": 13,
     "metadata": {},
     "output_type": "execute_result"
    }
   ],
   "source": [
    "np.ones(5) * np.arange(1,6)"
   ]
  }
 ],
 "metadata": {
  "kernelspec": {
   "display_name": "didge",
   "language": "python",
   "name": "didge"
  },
  "language_info": {
   "codemirror_mode": {
    "name": "ipython",
    "version": 3
   },
   "file_extension": ".py",
   "mimetype": "text/x-python",
   "name": "python",
   "nbconvert_exporter": "python",
   "pygments_lexer": "ipython3",
   "version": "3.10.9"
  }
 },
 "nbformat": 4,
 "nbformat_minor": 5
}
