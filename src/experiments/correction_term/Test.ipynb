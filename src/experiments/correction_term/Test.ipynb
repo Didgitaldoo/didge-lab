{
 "cells": [
  {
   "cell_type": "code",
   "execution_count": 14,
   "id": "db6a82ff",
   "metadata": {},
   "outputs": [
    {
     "name": "stdout",
     "output_type": "stream",
     "text": [
      "[[0.0, 30.0], [72.58, 24.0], [173.06, 26.66], [257.73, 36.0], [353.16, 24.01], [482.89, 30.25], [545.4, 36.17], [628.04, 36.46], [760.62, 25.65], [853.2, 26.56], [945.78, 37.32], [998.35, 29.29], [1119.42, 49.76], [1183.51, 55.46], [1296.09, 60.39], [1388.66, 77.0]]\n"
     ]
    }
   ],
   "source": [
    "import re\n",
    "import json\n",
    "\n",
    "shape_s=\"\"\"0.00      30.00\n",
    "72.58     24.00\n",
    "173.06    26.66\n",
    "257.73    36.00\n",
    "353.16    24.01\n",
    "482.89    30.25\n",
    "545.40    36.17\n",
    "628.04    36.46\n",
    "760.62    25.65\n",
    "853.20    26.56\n",
    "945.78    37.32\n",
    "998.35    29.29\n",
    "1119.42   49.76\n",
    "1183.51   55.46\n",
    "1296.09   60.39\n",
    "1388.66   77.00\"\"\"\n",
    "\n",
    "geo = []\n",
    "for line in shape_s.split(\"\\n\"):\n",
    "    line = re.split(\"\\s\", line)\n",
    "    l1 = float(line[0])\n",
    "    l2 = float(line[-1])\n",
    "    line = [l1, l2]\n",
    "    geo.append(line)\n",
    "    \n",
    "print(json.dumps(geo))"
   ]
  },
  {
   "cell_type": "code",
   "execution_count": null,
   "id": "5dc50a50",
   "metadata": {},
   "outputs": [],
   "source": []
  }
 ],
 "metadata": {
  "kernelspec": {
   "display_name": "Python 3 (ipykernel)",
   "language": "python",
   "name": "python3"
  },
  "language_info": {
   "codemirror_mode": {
    "name": "ipython",
    "version": 3
   },
   "file_extension": ".py",
   "mimetype": "text/x-python",
   "name": "python",
   "nbconvert_exporter": "python",
   "pygments_lexer": "ipython3",
   "version": "3.10.8"
  }
 },
 "nbformat": 4,
 "nbformat_minor": 5
}
