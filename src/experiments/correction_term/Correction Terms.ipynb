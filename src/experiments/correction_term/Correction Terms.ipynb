{
 "cells": [
  {
   "cell_type": "code",
   "execution_count": 1,
   "id": "0cd9a755",
   "metadata": {},
   "outputs": [],
   "source": [
    "import json\n",
    "import os\n",
    "import sys\n",
    "import seaborn as sns\n",
    "import matplotlib.pyplot as plt\n",
    "import numpy as np\n",
    "\n",
    "sys.path.append(\"../../\")\n",
    "import didgelab.calc.fft\n",
    "from didgelab.calc.sim.cadsd import CADSD\n",
    "from didgelab.app import get_app\n",
    "from didgelab.initializer import init_console_no_output\n",
    "from didgelab.calc.geo import Geo\n",
    "init_console_no_output()\n",
    "\n",
    "da_path = \"/Users/jane03/workspaces/music/didge/didge-archive\"\n",
    "didge_archive = json.load(open(os.path.join(da_path, \"didge-archive.json\")))\n",
    "didge_archive = list(filter(lambda x:x[\"shape\"] == \"straight\", didge_archive))\n"
   ]
  },
  {
   "cell_type": "code",
   "execution_count": 2,
   "id": "fb506b88",
   "metadata": {},
   "outputs": [
    {
     "data": {
      "text/plain": [
       "{'sim.grid': 'even',\n",
       " 'sim.correction': 'none',\n",
       " 'sim.grid_size': 0.1,\n",
       " 'sim.fmin': 30,\n",
       " 'sim.fmax': 1000,\n",
       " 'log_level': 'info'}"
      ]
     },
     "execution_count": 2,
     "metadata": {},
     "output_type": "execute_result"
    }
   ],
   "source": [
    "get_app().get_config()[\"sim.correction\"] = \"none\"\n",
    "get_app().get_config()[\"sim.grid\"] = \"even\"\n",
    "get_app().get_config()[\"sim.grid_size\"] = 0.1\n",
    "get_app().get_config()"
   ]
  },
  {
   "cell_type": "code",
   "execution_count": 4,
   "id": "ff4cfa01",
   "metadata": {},
   "outputs": [
    {
     "ename": "IndexError",
     "evalue": "arrays used as indices must be of integer (or boolean) type",
     "output_type": "error",
     "traceback": [
      "\u001b[0;31m---------------------------------------------------------------------------\u001b[0m",
      "\u001b[0;31mIndexError\u001b[0m                                Traceback (most recent call last)",
      "Cell \u001b[0;32mIn[4], line 7\u001b[0m\n\u001b[1;32m      5\u001b[0m freq, impedance \u001b[38;5;241m=\u001b[39m cadsd\u001b[38;5;241m.\u001b[39mcompute_impedance()\n\u001b[1;32m      6\u001b[0m impedance \u001b[38;5;241m=\u001b[39m np\u001b[38;5;241m.\u001b[39marray(impedance)\n\u001b[0;32m----> 7\u001b[0m ground \u001b[38;5;241m=\u001b[39m \u001b[43mcadsd\u001b[49m\u001b[38;5;241;43m.\u001b[39;49m\u001b[43mcompute_ground_spektrum\u001b[49m\u001b[43m(\u001b[49m\u001b[43mfreq\u001b[49m\u001b[43m,\u001b[49m\u001b[43m \u001b[49m\u001b[43mimpedance\u001b[49m\u001b[43m,\u001b[49m\u001b[43m \u001b[49m\u001b[43mnp\u001b[49m\u001b[38;5;241;43m.\u001b[39;49m\u001b[43mmin\u001b[49m\u001b[43m(\u001b[49m\u001b[43mfreq\u001b[49m\u001b[43m)\u001b[49m\u001b[43m,\u001b[49m\u001b[43m \u001b[49m\u001b[43mnp\u001b[49m\u001b[38;5;241;43m.\u001b[39;49m\u001b[43mmax\u001b[49m\u001b[43m(\u001b[49m\u001b[43mfreq\u001b[49m\u001b[43m)\u001b[49m\u001b[43m)\u001b[49m\n",
      "File \u001b[0;32m~/workspaces/music/didge/didgelab2/src/experiments/correction_term/../../didgelab/calc/sim/cadsd.py:142\u001b[0m, in \u001b[0;36mCADSD.compute_ground_spektrum\u001b[0;34m(self, freqs, impedance, fmin, fmax)\u001b[0m\n\u001b[1;32m    140\u001b[0m ground \u001b[38;5;241m=\u001b[39m np\u001b[38;5;241m.\u001b[39mzeros(\u001b[38;5;28mlen\u001b[39m(freqs))\n\u001b[1;32m    141\u001b[0m indizes \u001b[38;5;241m=\u001b[39m np\u001b[38;5;241m.\u001b[39mconcatenate((np\u001b[38;5;241m.\u001b[39marange(fmin,fundamental_freq), np\u001b[38;5;241m.\u001b[39marange(fundamental_freq,fmin\u001b[38;5;241m-\u001b[39m\u001b[38;5;241m1\u001b[39m,\u001b[38;5;241m-\u001b[39m\u001b[38;5;241m1\u001b[39m)))\n\u001b[0;32m--> 142\u001b[0m window_right \u001b[38;5;241m=\u001b[39m \u001b[43mimpedance\u001b[49m\u001b[43m[\u001b[49m\u001b[43mindizes\u001b[49m\u001b[43m]\u001b[49m\n\u001b[1;32m    144\u001b[0m k \u001b[38;5;241m=\u001b[39m \u001b[38;5;241m0.0001\u001b[39m\n\u001b[1;32m    145\u001b[0m \u001b[38;5;28;01mfor\u001b[39;00m i \u001b[38;5;129;01min\u001b[39;00m \u001b[38;5;28mrange\u001b[39m(fundamental_freq, fmax, fundamental_freq):\n",
      "\u001b[0;31mIndexError\u001b[0m: arrays used as indices must be of integer (or boolean) type"
     ]
    }
   ],
   "source": [
    "didge = didge_archive[0]\n",
    "\n",
    "geo = Geo(json.load(open(os.path.join(da_path, didge[\"geometry\"]))))\n",
    "cadsd = CADSD(geo)\n",
    "freq, impedance = cadsd.compute_impedance()\n",
    "impedance = np.array(impedance)\n",
    "ground = cadsd.compute_ground_spektrum(freq, impedance, np.min(freq), np.max(freq))"
   ]
  },
  {
   "cell_type": "code",
   "execution_count": null,
   "id": "71d41d91",
   "metadata": {},
   "outputs": [],
   "source": []
  }
 ],
 "metadata": {
  "kernelspec": {
   "display_name": "didge",
   "language": "python",
   "name": "didge"
  },
  "language_info": {
   "codemirror_mode": {
    "name": "ipython",
    "version": 3
   },
   "file_extension": ".py",
   "mimetype": "text/x-python",
   "name": "python",
   "nbconvert_exporter": "python",
   "pygments_lexer": "ipython3",
   "version": "3.10.9"
  }
 },
 "nbformat": 4,
 "nbformat_minor": 5
}
