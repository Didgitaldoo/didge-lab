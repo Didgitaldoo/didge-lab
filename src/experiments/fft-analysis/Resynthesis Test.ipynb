{
 "cells": [
  {
   "cell_type": "code",
   "execution_count": 4,
   "id": "024c4f65",
   "metadata": {},
   "outputs": [
    {
     "ename": "ModuleNotFoundError",
     "evalue": "No module named 'essentia'",
     "output_type": "error",
     "traceback": [
      "\u001b[0;31m---------------------------------------------------------------------------\u001b[0m",
      "\u001b[0;31mModuleNotFoundError\u001b[0m                       Traceback (most recent call last)",
      "Cell \u001b[0;32mIn[4], line 3\u001b[0m\n\u001b[1;32m      1\u001b[0m \u001b[38;5;66;03m# from https://notebook.community/MTG/essentia/src/examples/python/musicbricks-tutorials/1-stft_analsynth\u001b[39;00m\n\u001b[0;32m----> 3\u001b[0m \u001b[38;5;28;01mimport\u001b[39;00m \u001b[38;5;21;01messentia\u001b[39;00m\n\u001b[1;32m      4\u001b[0m \u001b[38;5;28;01mimport\u001b[39;00m \u001b[38;5;21;01messentia\u001b[39;00m\u001b[38;5;21;01m.\u001b[39;00m\u001b[38;5;21;01mstreaming\u001b[39;00m \u001b[38;5;28;01mas\u001b[39;00m \u001b[38;5;21;01mes\u001b[39;00m\n\u001b[1;32m      6\u001b[0m \u001b[38;5;66;03m# algorithm parameters\u001b[39;00m\n",
      "\u001b[0;31mModuleNotFoundError\u001b[0m: No module named 'essentia'"
     ]
    }
   ],
   "source": [
    "# from https://notebook.community/MTG/essentia/src/examples/python/musicbricks-tutorials/1-stft_analsynth\n",
    "\n",
    "import essentia\n",
    "import essentia.streaming as es\n",
    "\n",
    "# algorithm parameters\n",
    "framesize = 1024\n",
    "hopsize = 256\n",
    "\n",
    "inputFilename = 'singing-female.wav'\n",
    "outputFilename = 'singing-female-stft.wav'\n",
    "\n",
    "# create an audio loader and import audio file\n",
    "out = np.array(0)\n",
    "loader = es.MonoLoader(filename = inputFilename, sampleRate = 44100)\n",
    "pool = essentia.Pool()\n",
    "\n",
    "fcut = es.FrameCutter(frameSize = framesize, hopSize = hopsize, startFromZero =  False);\n",
    "w = es.Windowing(type = \"hann\");\n",
    "fft = es.FFT(size = framesize);\n",
    "ifft = es.IFFT(size = framesize);\n",
    "overl = es.OverlapAdd (frameSize = framesize, hopSize = hopsize, gain = 1./framesize );\n",
    "awrite = es.MonoWriter (filename = outputFilename, sampleRate = 44100);\n"
   ]
  },
  {
   "cell_type": "code",
   "execution_count": 3,
   "id": "f86e35c4",
   "metadata": {},
   "outputs": [
    {
     "name": "stdout",
     "output_type": "stream",
     "text": [
      "handmade-yucca-didgeridoos-sam-david.wav\r\n",
      "harmonic_wobbler_s_molder_e.mp3\r\n",
      "harmonic_wobbler_s_molder_e.wav\r\n",
      "\u001b[34mkizimkazi1\u001b[m\u001b[m\r\n",
      "saxo_lucky_minor.wav\r\n",
      "saxo_major.wav\r\n",
      "saxo_smooth.wav\r\n",
      "singer.wav\r\n"
     ]
    }
   ],
   "source": [
    "!ls samples "
   ]
  },
  {
   "cell_type": "code",
   "execution_count": null,
   "id": "f57075cd",
   "metadata": {},
   "outputs": [],
   "source": [
    "loader.audio >> fcut.signal\n",
    "fcut.frame >> w.frame\n",
    "w.frame >> fft.frame\n",
    "fft.fft >> ifft.fft\n",
    "ifft.frame >> overl.frame\n",
    "overl.signal >> awrite.audio\n",
    "overl.signal >> (pool, 'audio')\n"
   ]
  }
 ],
 "metadata": {
  "kernelspec": {
   "display_name": "Python 3 (ipykernel)",
   "language": "python",
   "name": "python3"
  },
  "language_info": {
   "codemirror_mode": {
    "name": "ipython",
    "version": 3
   },
   "file_extension": ".py",
   "mimetype": "text/x-python",
   "name": "python",
   "nbconvert_exporter": "python",
   "pygments_lexer": "ipython3",
   "version": "3.10.8"
  }
 },
 "nbformat": 4,
 "nbformat_minor": 5
}
