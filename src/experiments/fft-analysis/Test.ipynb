{
 "cells": [
  {
   "cell_type": "code",
   "execution_count": 1,
   "id": "d22219cc",
   "metadata": {},
   "outputs": [],
   "source": [
    "import numpy as np"
   ]
  },
  {
   "cell_type": "code",
   "execution_count": 23,
   "id": "7a65c3b9",
   "metadata": {},
   "outputs": [
    {
     "data": {
      "text/plain": [
       "[0.73, 877.83, 1.94]"
      ]
     },
     "execution_count": 23,
     "metadata": {},
     "output_type": "execute_result"
    }
   ],
   "source": [
    "minima = np.array([0,100,1.5])\n",
    "maxima = np.array([1, 1300, 2.7])\n",
    "values = np.array([0.7, 920, 1.9])\n",
    "\n",
    "mutation_rate = 0.1\n",
    "diff = (np.random.random(len(values)) + minima) * (maxima-minima)\n",
    "diff = mutation_rate * ((np.random.random(len(values))  * (maxima-minima) ) + minima - values)\n",
    "\n",
    "new_values = values + diff\n",
    "[round(x, 2) for x in new_values]"
   ]
  },
  {
   "cell_type": "code",
   "execution_count": null,
   "id": "1ebd4d1e",
   "metadata": {},
   "outputs": [],
   "source": [
    "mr_decay_after = 0.5\n",
    "i_generation = 100\n",
    "n_generations = 500\n",
    "\n",
    "if i_generation/n_generation > mr_decay_after:\n",
    "mutation_rate = np.max()"
   ]
  },
  {
   "cell_type": "code",
   "execution_count": null,
   "id": "2b39f7a5",
   "metadata": {},
   "outputs": [],
   "source": []
  },
  {
   "cell_type": "code",
   "execution_count": null,
   "id": "f1dc88b7",
   "metadata": {},
   "outputs": [],
   "source": []
  },
  {
   "cell_type": "code",
   "execution_count": null,
   "id": "555b41dc",
   "metadata": {},
   "outputs": [],
   "source": []
  },
  {
   "cell_type": "code",
   "execution_count": null,
   "id": "58c19a3d",
   "metadata": {},
   "outputs": [],
   "source": []
  },
  {
   "cell_type": "code",
   "execution_count": null,
   "id": "079c387f",
   "metadata": {},
   "outputs": [],
   "source": []
  }
 ],
 "metadata": {
  "kernelspec": {
   "display_name": "didge",
   "language": "python",
   "name": "didge"
  },
  "language_info": {
   "codemirror_mode": {
    "name": "ipython",
    "version": 3
   },
   "file_extension": ".py",
   "mimetype": "text/x-python",
   "name": "python",
   "nbconvert_exporter": "python",
   "pygments_lexer": "ipython3",
   "version": "3.10.9"
  }
 },
 "nbformat": 4,
 "nbformat_minor": 5
}
