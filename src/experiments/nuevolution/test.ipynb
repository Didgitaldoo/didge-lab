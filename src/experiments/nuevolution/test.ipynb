{
 "cells": [
  {
   "cell_type": "code",
   "execution_count": 4,
   "metadata": {},
   "outputs": [],
   "source": [
    "import sys\n",
    "sys.path.append(\"../../\")\n",
    "\n",
    "from didgelab.calc.geo import Geo\n",
    "from didgelab.evo.nuevolution import Genome, LossFunction, Nuevolution\n",
    "from didgelab.util.didge_visualizer import vis_didge\n",
    "from didgelab.calc.sim.sim import compute_impedance_iteratively, get_notes, compute_impedance, create_segments, get_log_simulation_frequencies, quick_analysis\n",
    "from didgelab.calc.conv import note_to_freq, freq_to_note_and_cent, note_name\n",
    "\n",
    "import numpy as np"
   ]
  },
  {
   "cell_type": "code",
   "execution_count": 65,
   "metadata": {},
   "outputs": [
    {
     "data": {
      "image/png": "[encoded data removed]",
      "text/plain": [
       "<Figure size 1500x300 with 1 Axes>"
      ]
     },
     "metadata": {},
     "output_type": "display_data"
    }
   ],
   "source": [
    "def gene2geo(genome : Genome) -> Geo:\n",
    "\n",
    "    d0 = 32\n",
    "    x = [0]\n",
    "    y = [d0]\n",
    "    min_l = 1000\n",
    "    max_l = 2000\n",
    "\n",
    "    d_factor = 75\n",
    "    min_d = 25\n",
    "\n",
    "    l = genome.genome[0] * (max_l-min_l) + min_l \n",
    "    i=1\n",
    "    while i < len(genome.genome):\n",
    "        x.append(genome.genome[i] + x[-1])\n",
    "        y.append(genome.genome[i+1])\n",
    "        i += 2\n",
    "\n",
    "    x = np.array(x)\n",
    "    x /= x[-1]\n",
    "\n",
    "    x = x * l\n",
    "    x[0] = 0\n",
    "    y = np.array(y) * d_factor + min_d\n",
    "    y[0] = d0\n",
    "\n",
    "    geo = list(zip(x,y))\n",
    "\n",
    "    return Geo(geo)\n",
    "\n",
    "n_segments = 10\n",
    "genome = Genome(n_genes=n_segments+1)\n",
    "geo = gene2geo(genome)\n",
    "\n",
    "vis_didge(geo)\n"
   ]
  },
  {
   "cell_type": "code",
   "execution_count": 75,
   "metadata": {},
   "outputs": [
    {
     "data": {
      "text/plain": [
       "0.09750352374993465"
      ]
     },
     "execution_count": 75,
     "metadata": {},
     "output_type": "execute_result"
    }
   ],
   "source": [
    "def get_fundamental_freq(geo):\n",
    "    segments = create_segments(geo)\n",
    "    freqs = get_log_simulation_frequencies(50, 120, 2)\n",
    "    impedance = compute_impedance(segments, freqs)\n",
    "    fundamental = np.argmax(impedance)\n",
    "    return freqs[fundamental]\n",
    "\n",
    "class Loss(LossFunction):\n",
    "    \n",
    "    def __init__(self):\n",
    "        self.target_f = note_to_freq(-31)\n",
    "        self.target_f = np.log2(self.target_f)\n",
    "\n",
    "    def loss(self, genome : Genome):\n",
    "        geo = gene2geo(genome)\n",
    "        fundamental = get_fundamental_freq(geo)\n",
    "        loss = np.abs(np.log2(fundamental) - self.target_f)\n",
    "        return loss\n",
    "\n",
    "loss = Loss()\n",
    "loss.loss(genome)\n",
    "        "
   ]
  },
  {
   "cell_type": "code",
   "execution_count": 11,
   "metadata": {},
   "outputs": [
    {
     "data": {
      "text/plain": [
       "{'total': 3.156579140573979,\n",
       " 'fundamental_loss': 3.156579140573979,\n",
       " 'harmonic_loss': 0.12276375283222984,\n",
       " 'n_notes_loss': 0.1}"
      ]
     },
     "execution_count": 11,
     "metadata": {},
     "output_type": "execute_result"
    }
   ],
   "source": [
    "class MultiplierLoss(LossFunction):\n",
    "    \n",
    "    def __init__(self):\n",
    "        self.target_f = np.arange(1,15) * note_to_freq(-19)\n",
    "        self.target_f = np.log2(self.target_f)\n",
    "\n",
    "    def loss(self, geo):\n",
    "        freqs = get_log_simulation_frequencies(1, 1000, 5)\n",
    "        segments = create_segments(geo)\n",
    "        impedance = compute_impedance(segments, freqs)\n",
    "        notes = get_notes(freqs, impedance)\n",
    "\n",
    "        logfreq = np.log2(notes.freq)\n",
    "        deltas = []\n",
    "\n",
    "        for freq in logfreq:\n",
    "            closest_target_i = np.argmin(np.abs(self.target_f - freq))\n",
    "            deltas.append(np.abs(self.target_f[closest_target_i]-freq))\n",
    "\n",
    "        fundamental_loss = 3*deltas[0]\n",
    "        harmonic_loss = np.mean(deltas[1:])\n",
    "        n_notes_loss = (10-len(notes))/10\n",
    "\n",
    "        return {\n",
    "            \"total\": fundamental_loss,\n",
    "            \"fundamental_loss\": fundamental_loss,\n",
    "            \"harmonic_loss\": harmonic_loss,\n",
    "            \"n_notes_loss\": n_notes_loss\n",
    "        }\n",
    "\n",
    "geo = Geo([[0,32], [1000, 37], [1200, 50], [1500, 70]])\n",
    "\n",
    "MultiplierLoss().loss(geo)\n"
   ]
  }
 ],
 "metadata": {
  "kernelspec": {
   "display_name": "didge",
   "language": "python",
   "name": "python3"
  },
  "language_info": {
   "codemirror_mode": {
    "name": "ipython",
    "version": 3
   },
   "file_extension": ".py",
   "mimetype": "text/x-python",
   "name": "python",
   "nbconvert_exporter": "python",
   "pygments_lexer": "ipython3",
   "version": "3.10.9"
  }
 },
 "nbformat": 4,
 "nbformat_minor": 2
}
