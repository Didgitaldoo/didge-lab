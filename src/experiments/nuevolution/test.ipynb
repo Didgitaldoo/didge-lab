{
 "cells": [
  {
   "cell_type": "code",
   "execution_count": 15,
   "metadata": {},
   "outputs": [],
   "source": [
    "import sys\n",
    "sys.path.append(\"../../\")\n",
    "\n",
    "from didgelab.calc.geo import Geo\n",
    "from didgelab.evo.nevolution import Genome\n",
    "from didgelab.util.didge_visualizer import vis_didge\n",
    "\n",
    "import numpy as np"
   ]
  },
  {
   "cell_type": "code",
   "execution_count": 35,
   "metadata": {},
   "outputs": [
    {
     "name": "stdout",
     "output_type": "stream",
     "text": [
      "0.21918399361838503\n",
      "[32, 0.5224780107610052, 0.4005850115293319, 0.5487273605544998, 0.26198025305696193, 0.10386723558418798]\n"
     ]
    },
    {
     "data": {
      "text/plain": [
       "[(1000.0, 32.0),\n",
       " (1037.0790587610634, 35.4495602152201),\n",
       " (1073.2969252543805, 33.01170023058664),\n",
       " (1094.5479815535052, 35.97454721109),\n",
       " (1151.8550224111818, 30.239605061139237),\n",
       " (1219.183993618385, 27.07734471168376)]"
      ]
     },
     "execution_count": 35,
     "metadata": {},
     "output_type": "execute_result"
    }
   ],
   "source": [
    "def gene_to_geo(genome : Genome) -> Geo:\n",
    "\n",
    "    d0 = 32\n",
    "    x = [0]\n",
    "    y = [d0]\n",
    "    min_l = 1000\n",
    "    max_l = 2000\n",
    "\n",
    "    d_factor = 75\n",
    "    min_d = 25\n",
    "\n",
    "    l = genome.genome[0]\n",
    "    print(l)\n",
    "    i=1\n",
    "    while i < len(genome.genome):\n",
    "        x.append(genome.genome[i] + x[-1])\n",
    "        y.append(genome.genome[i+1])\n",
    "        i += 2\n",
    "\n",
    "    x = np.array(x)\n",
    "    x /= x[-1]\n",
    "\n",
    "    x = x * l * (max_l-min_l) + min_l\n",
    "    print(y)\n",
    "    y = np.array(y) * d_factor + min_d\n",
    "    y[0] = d0\n",
    "\n",
    "    geo = list(zip(x,y))\n",
    "\n",
    "    return Geo(geo)\n",
    "\n",
    "genome = Genome(n_genes=11)\n",
    "geo = gene_to_geo(genome)\n",
    "geo.geo\n",
    "\n",
    "#vis_didge(geo)\n"
   ]
  }
 ],
 "metadata": {
  "kernelspec": {
   "display_name": "didge",
   "language": "python",
   "name": "python3"
  },
  "language_info": {
   "codemirror_mode": {
    "name": "ipython",
    "version": 3
   },
   "file_extension": ".py",
   "mimetype": "text/x-python",
   "name": "python",
   "nbconvert_exporter": "python",
   "pygments_lexer": "ipython3",
   "version": "3.10.9"
  }
 },
 "nbformat": 4,
 "nbformat_minor": 2
}
