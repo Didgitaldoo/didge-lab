{
 "cells": [
  {
   "cell_type": "code",
   "execution_count": 1,
   "id": "38f9247e",
   "metadata": {},
   "outputs": [],
   "source": [
    "import numpy as np\n",
    "\n"
   ]
  },
  {
   "cell_type": "code",
   "execution_count": 25,
   "id": "fd03849c",
   "metadata": {},
   "outputs": [
    {
     "data": {
      "text/plain": [
       "50"
      ]
     },
     "execution_count": 25,
     "metadata": {},
     "output_type": "execute_result"
    }
   ],
   "source": [
    "def get_simulation_frequencies(max_error, min_freq=30, max_freq=1000):\n",
    "    \n",
    "    frequencies = []\n",
    "    stepsize = max_error/100\n",
    "    start_freq = min_freq\n",
    "    end_freq = start_freq\n",
    "    octave = 0\n",
    "    while end_freq < max_freq:\n",
    "        notes = np.arange(0,1,stepsize) + octave\n",
    "        frequencies.extend(start_freq*np.power(2, notes))\n",
    "        end_freq = frequencies[-1]\n",
    "        octave += 1\n",
    "        \n",
    "    frequencies = list(filter(lambda x:x<=max_freq, frequencies))\n",
    "    return frequencies\n",
    "\n",
    "frequencies=get_simulation_frequencies(2)\n",
    "len(list(filter(lambda x:x<60, frequencies)))"
   ]
  },
  {
   "cell_type": "code",
   "execution_count": null,
   "id": "9b270658",
   "metadata": {},
   "outputs": [],
   "source": []
  }
 ],
 "metadata": {
  "kernelspec": {
   "display_name": "Python 3 (ipykernel)",
   "language": "python",
   "name": "python3"
  },
  "language_info": {
   "codemirror_mode": {
    "name": "ipython",
    "version": 3
   },
   "file_extension": ".py",
   "mimetype": "text/x-python",
   "name": "python",
   "nbconvert_exporter": "python",
   "pygments_lexer": "ipython3",
   "version": "3.10.8"
  }
 },
 "nbformat": 4,
 "nbformat_minor": 5
}
