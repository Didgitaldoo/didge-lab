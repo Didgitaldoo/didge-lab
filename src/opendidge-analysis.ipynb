{
 "cells": [
  {
   "cell_type": "code",
   "execution_count": 1,
   "metadata": {},
   "outputs": [],
   "source": [
    "from cad.calc.didgmo import PeakFile, didgmo_bridge\n",
    "from cad.calc.visualization import DidgeVisualizer, FFTVisualiser, visualize_geo_fft\n",
    "import matplotlib.pyplot as plt\n",
    "from cad.calc.conv import note_to_freq, note_name, freq_to_note\n",
    "from cad.calc.geo import Geo\n",
    "from IPython.display import clear_output\n",
    "import math\n",
    "import random\n",
    "import copy\n",
    "from tqdm import tqdm"
   ]
  },
  {
   "cell_type": "code",
   "execution_count": 2,
   "metadata": {},
   "outputs": [
    {
     "data": {
      "image/png": "[encoded data removed]",
      "text/plain": [
       "<Figure size 1080x216 with 1 Axes>"
      ]
     },
     "metadata": {},
     "output_type": "display_data"
    },
    {
     "data": {
      "image/png": "[encoded data removed]",
      "text/plain": [
       "<Figure size 1080x360 with 1 Axes>"
      ]
     },
     "metadata": {},
     "output_type": "display_data"
    },
    {
     "data": {
      "text/html": [
       "<div>\n",
       "<style scoped>\n",
       "    .dataframe tbody tr th:only-of-type {\n",
       "        vertical-align: middle;\n",
       "    }\n",
       "\n",
       "    .dataframe tbody tr th {\n",
       "        vertical-align: top;\n",
       "    }\n",
       "\n",
       "    .dataframe thead th {\n",
       "        text-align: right;\n",
       "    }\n",
       "</style>\n",
       "<table border=\"1\" class=\"dataframe\">\n",
       "  <thead>\n",
       "    <tr style=\"text-align: right;\">\n",
       "      <th></th>\n",
       "      <th>t</th>\n",
       "      <th>freq</th>\n",
       "      <th>note</th>\n",
       "      <th>cent-diff</th>\n",
       "      <th>amp</th>\n",
       "    </tr>\n",
       "  </thead>\n",
       "  <tbody>\n",
       "    <tr>\n",
       "      <th>0</th>\n",
       "      <td>0</td>\n",
       "      <td>75</td>\n",
       "      <td>D2</td>\n",
       "      <td>36</td>\n",
       "      <td>3.357038e+07</td>\n",
       "    </tr>\n",
       "    <tr>\n",
       "      <th>1</th>\n",
       "      <td>0</td>\n",
       "      <td>184</td>\n",
       "      <td>F#3</td>\n",
       "      <td>-10</td>\n",
       "      <td>8.262524e+06</td>\n",
       "    </tr>\n",
       "    <tr>\n",
       "      <th>2</th>\n",
       "      <td>0</td>\n",
       "      <td>294</td>\n",
       "      <td>D4</td>\n",
       "      <td>1</td>\n",
       "      <td>6.203057e+06</td>\n",
       "    </tr>\n",
       "    <tr>\n",
       "      <th>3</th>\n",
       "      <td>0</td>\n",
       "      <td>399</td>\n",
       "      <td>G4</td>\n",
       "      <td>30</td>\n",
       "      <td>2.194560e+06</td>\n",
       "    </tr>\n",
       "    <tr>\n",
       "      <th>4</th>\n",
       "      <td>0</td>\n",
       "      <td>515</td>\n",
       "      <td>C5</td>\n",
       "      <td>-28</td>\n",
       "      <td>3.259385e+06</td>\n",
       "    </tr>\n",
       "    <tr>\n",
       "      <th>5</th>\n",
       "      <td>0</td>\n",
       "      <td>633</td>\n",
       "      <td>D#5</td>\n",
       "      <td>29</td>\n",
       "      <td>8.366616e+05</td>\n",
       "    </tr>\n",
       "    <tr>\n",
       "      <th>6</th>\n",
       "      <td>0</td>\n",
       "      <td>725</td>\n",
       "      <td>F#5</td>\n",
       "      <td>-36</td>\n",
       "      <td>1.479583e+06</td>\n",
       "    </tr>\n",
       "    <tr>\n",
       "      <th>7</th>\n",
       "      <td>0</td>\n",
       "      <td>855</td>\n",
       "      <td>G#5</td>\n",
       "      <td>50</td>\n",
       "      <td>9.933640e+05</td>\n",
       "    </tr>\n",
       "    <tr>\n",
       "      <th>8</th>\n",
       "      <td>0</td>\n",
       "      <td>950</td>\n",
       "      <td>A#6</td>\n",
       "      <td>32</td>\n",
       "      <td>8.954851e+05</td>\n",
       "    </tr>\n",
       "  </tbody>\n",
       "</table>\n",
       "</div>"
      ],
      "text/plain": [
       "   t  freq note  cent-diff           amp\n",
       "0  0    75   D2         36  3.357038e+07\n",
       "1  0   184  F#3        -10  8.262524e+06\n",
       "2  0   294   D4          1  6.203057e+06\n",
       "3  0   399   G4         30  2.194560e+06\n",
       "4  0   515   C5        -28  3.259385e+06\n",
       "5  0   633  D#5         29  8.366616e+05\n",
       "6  0   725  F#5        -36  1.479583e+06\n",
       "7  0   855  G#5         50  9.933640e+05\n",
       "8  0   950  A#6         32  8.954851e+05"
      ]
     },
     "execution_count": 2,
     "metadata": {},
     "output_type": "execute_result"
    }
   ],
   "source": [
    "shape=[\n",
    "    [0, 32],\n",
    "    [800, 32],\n",
    "    [900, 38],\n",
    "    [970, 42],\n",
    "    [1050, 40],\n",
    "    [1180, 48],\n",
    "    [1350, 60],\n",
    "    [1390, 68],\n",
    "    [1500, 72]\n",
    "]\n",
    "geo=Geo(geo=shape)\n",
    "visualize_geo_fft(geo, None)"
   ]
  },
  {
   "cell_type": "code",
   "execution_count": 7,
   "metadata": {},
   "outputs": [
    {
     "data": {
      "text/plain": [
       "[1.0,\n",
       " 0.24612539132123343,\n",
       " 0.18477767509828322,\n",
       " 0.06537190160564356,\n",
       " 0.09709107099326571,\n",
       " 0.024922609453357173,\n",
       " 0.04407404238665212,\n",
       " 0.029590486437497104,\n",
       " 0.02667485461124802]"
      ]
     },
     "execution_count": 7,
     "metadata": {},
     "output_type": "execute_result"
    }
   ],
   "source": [
    "peak, fft=didgmo_bridge(geo)\n",
    "amps=[x[\"amp\"] for x in peak.impedance_peaks]\n",
    "a0=amps[0]\n",
    "amps=[x/a0 for x in amps]\n",
    "amps"
   ]
  }
 ],
 "metadata": {
  "kernelspec": {
   "display_name": "didge",
   "language": "python",
   "name": "didge"
  },
  "language_info": {
   "codemirror_mode": {
    "name": "ipython",
    "version": 3
   },
   "file_extension": ".py",
   "mimetype": "text/x-python",
   "name": "python",
   "nbconvert_exporter": "python",
   "pygments_lexer": "ipython3",
   "version": "3.8.5"
  }
 },
 "nbformat": 4,
 "nbformat_minor": 4
}
