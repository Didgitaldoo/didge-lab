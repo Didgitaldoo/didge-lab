{
 "cells": [
  {
   "cell_type": "code",
   "execution_count": 103,
   "metadata": {},
   "outputs": [],
   "source": [
    "from cad.calc.loss import ScaleLoss, AmpLoss, CombinedLoss\n",
    "from cad.calc.mutation import mutate_explore_then_finetune\n",
    "from cad.calc.parameters import BasicShapeParameters\n",
    "from cad.calc.htmlreport import make_html_report\n",
    "from cad.calc.didgmo import PeakFile, didgmo_bridge, cleanup\n",
    "from cad.calc.visualization import DidgeVisualizer, FFTVisualiser, visualize_geo_fft\n",
    "import matplotlib.pyplot as plt\n",
    "from cad.calc.conv import note_to_freq, note_name, freq_to_note\n",
    "from cad.calc.geo import Geo\n",
    "from cad.calc.parameters import BasicShapeParameters\n",
    "from IPython.display import clear_output\n",
    "import math\n",
    "import random\n",
    "import copy\n",
    "from tqdm import tqdm\n",
    "from threading import Lock, Thread\n",
    "from multiprocessing import Pool\n",
    "import concurrent.futures\n"
   ]
  },
  {
   "cell_type": "code",
   "execution_count": 130,
   "metadata": {},
   "outputs": [
    {
     "data": {
      "text/plain": [
       "<AxesSubplot:xlabel='x', ylabel='y'>"
      ]
     },
     "execution_count": 130,
     "metadata": {},
     "output_type": "execute_result"
    },
    {
     "data": {
      "image/png": "[encoded data removed]",
      "text/plain": [
       "<Figure size 1080x216 with 1 Axes>"
      ]
     },
     "metadata": {},
     "output_type": "display_data"
    }
   ],
   "source": [
    "class WaveParameterSet(MutationParameterSet):\n",
    "    \n",
    "    def __init__(self):\n",
    "        super(WaveParameterSet, self).__init__()\n",
    "        \n",
    "        self.mutable_parameters.append(MutationParameter(\"length\", 2000, 1800, 2500))\n",
    "        \n",
    "        max_bubbles=5\n",
    "        self.mutable_parameters.append(MutationParameter(\"n_bubbles\", 3, 1, max_bubbles))\n",
    "        \n",
    "        for i in range(max_bubbles):\n",
    "            self.mutable_parameters.append(MutationParameter(f\"bubble_{i}_diameter\", 1.2, 1.0, 1.5))\n",
    "            self.mutable_parameters.append(MutationParameter(f\"bubble_{i}_width\", 50, 100, 200))     \n",
    "            self.mutable_parameters.append(MutationParameter(f\"bubble_{i}_pos_shift\", 0, -100, 100))\n",
    "\n",
    "        self.mutable_parameters.append(MutationParameter(\"d2\", 2, 1.0, 3.0))\n",
    "        self.mutable_parameters.append(MutationParameter(\"d3\", 3, 1.0, 3.0))\n",
    "        self.mutable_parameters.append(MutationParameter(\"bell_length\", 200, 100, 300))\n",
    "        self.immutable_parameters.append(MutationParameter(\"d1\", 32))\n",
    "        \n",
    "    def make_geo(self):\n",
    "        shape=[\n",
    "            [0, self.get(\"d1\").value]\n",
    "        ]\n",
    "        \n",
    "        length_wb=self.get(\"length\").value-self.get(\"bell_length\").value\n",
    "        \n",
    "        d2=self.get(\"d1\").value*self.get(\"d2\").value\n",
    "        \n",
    "        alpha=math.atan(0.5*d2/length_wb)\n",
    "        for i in range(self.get(\"n_bubbles\").value):\n",
    "            x2=self.get(f\"bubble_{i}_pos_shift\").value + length_wb*(i+1)/(self.get(\"n_bubbles\").value+1)\n",
    "            y2=self.get(f\"bubble_{i}_diameter\").value*2*math.tan(alpha)*x2\n",
    "            x1=x2-self.get(f\"bubble_{i}_width\").value\n",
    "            x3=x2+self.get(f\"bubble_{i}_width\").value\n",
    "            y1=2*math.tan(alpha)*x2\n",
    "            y3=2*math.tan(alpha)*x2\n",
    "            shape.append([x1, y1])\n",
    "            shape.append([x2, y2])\n",
    "            shape.append([x3, y3])\n",
    "            \n",
    "        shape.append([length_wb, d2])        \n",
    "        d3=self.get(\"d1\").value*self.get(\"d3\").value\n",
    "        shape.append([self.get(\"length\").value, d3])\n",
    "        return Geo(geo=shape)\n",
    "\n",
    "shape=WaveParameterSet()\n",
    "DidgeVisualizer.vis_didge(shape.make_geo())\n",
    "#for i in range(3):\n",
    "#    geo=shape.make_geo()\n",
    "#    shape.set(f\"bubble_0_diameter\", 1+i*0.3)\n",
    "#    peak, fft=didgmo_bridge(geo)\n",
    "#    print(peak.get_impedance_table())\n",
    "#    print()\n",
    "    #visualize_geo_fft(shape.make_geo())\n",
    "    \n",
    "    #print(shape.make_geo().geo)\n"
   ]
  },
  {
   "cell_type": "code",
   "execution_count": 129,
   "metadata": {},
   "outputs": [
    {
     "data": {
      "text/plain": [
       "<AxesSubplot:xlabel='x', ylabel='y'>"
      ]
     },
     "execution_count": 129,
     "metadata": {},
     "output_type": "execute_result"
    },
    {
     "data": {
      "image/png": "[encoded data removed]",
      "text/plain": [
       "<Figure size 1080x216 with 1 Axes>"
      ]
     },
     "metadata": {},
     "output_type": "display_data"
    }
   ],
   "source": [
    "shape.set(f\"bubble_0_diameter\", 1.2)\n",
    "DidgeVisualizer.vis_didge(geo)"
   ]
  },
  {
   "cell_type": "code",
   "execution_count": null,
   "metadata": {},
   "outputs": [],
   "source": [
    "shape.set(f\"bubble_0_diameter\", 1.2)\n",
    "DidgeVisualizer.vis_didge(geo)"
   ]
  },
  {
   "cell_type": "code",
   "execution_count": 39,
   "metadata": {},
   "outputs": [
    {
     "name": "stderr",
     "output_type": "stream",
     "text": [
      "100%|██████████| 200/200 [00:04<00:00, 42.43it/s]\n"
     ]
    }
   ],
   "source": [
    "mutator2=Mutator(mutant, loss, 200, n_poolsize=1, learning_rate=0.5, decrease_lr=True, show_progress=True, log_loss=True)\n",
    "mutant2, loss2=mutator2.run()\n",
    "\n",
    "peak, fft=didgmo_bridge(mutant2.make_geo())\n",
    "peak.get_impedance_table()"
   ]
  },
  {
   "cell_type": "code",
   "execution_count": null,
   "metadata": {},
   "outputs": [],
   "source": []
  }
 ],
 "metadata": {
  "kernelspec": {
   "display_name": "didge",
   "language": "python",
   "name": "didge"
  },
  "language_info": {
   "codemirror_mode": {
    "name": "ipython",
    "version": 3
   },
   "file_extension": ".py",
   "mimetype": "text/x-python",
   "name": "python",
   "nbconvert_exporter": "python",
   "pygments_lexer": "ipython3",
   "version": "3.8.5"
  }
 },
 "nbformat": 4,
 "nbformat_minor": 4
}
