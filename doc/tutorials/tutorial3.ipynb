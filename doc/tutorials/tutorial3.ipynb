{
 "cells": [
  {
   "cell_type": "code",
   "execution_count": 1,
   "metadata": {},
   "outputs": [],
   "source": [
    "import sys\n",
    "sys.path.append('../../src/')"
   ]
  },
  {
   "cell_type": "markdown",
   "metadata": {},
   "source": [
    "# DidgeLab tutorial part 3 - Optimization through Computational Evolution\n",
    "\n",
    "So in the first tutorial we learned how to create didgeridoo geometries and how to analyze their sonic properties. In the second tutorial, we learned how to generate geometries from parametric shapes. In this tutorial, we will learn how to optimize the shapes through computational evolution.\n",
    "\n",
    "In the first tutorial we defined a didgeridoo geometry and computed its sonic properties. In this tutorial, we want to reverse this: We define sonic properties and then come up with a didgeridoo geometry that has these properties. Because this is 1000x times more interesting, right?\n",
    "ted\n",
    "First I need to explain computational evolution and I try to make this as non-mathematical as possible.\n",
    "\n",
    "Lets say we want to compute a Didgeridoo with a drone frequency of 73.4 Hz (which is D1). So how would you do this using the tools from tutorial 1? You would start with some kind of geometry. Maybe you already have an idea about didgeridoo acoustics, so you add a bell or make it cylindrical or you start with any other basic shape. Then you run the acoustical simulation and find out that that your didgeridoo has drone frequency for example 80 Hz. Then you change the shape. Whenever you get closer to your target (lets say you get a geometry with drone frequency 75 Hz), then you use this geometry and modify it further, until you are closer to the target.\n",
    "\n",
    "### Loss Function\n",
    "\n",
    "Computational evolution is very similar, except that is is automatic. It is a mathematical optimization algorithm. Now we need to get a bit mathematical, excuse me :) So it is an optimization algorithm, but what exactly do we want to optimize? We want to optimize the difference between our target properties and the properties our best geometry has. In DidgeLab, we formulate this differene as the loss function. The loss function defines how far we are away from our target. So, in above example, we could define the loss function as `loss(geo) = | drone_frequency(geo) - 73.4 Hz |`. So the loss function is the difference between the frequency of our didgeridoo and the target frequency. The `|` means that we use the absolute value: So in case our didgeridoo has drone frequency 50 Hz, then `drone_frequency(geo) - 73.4 Hz` would be negative. The absolute function turns all negative values positive. Using a loss function we can compare two didgeridoo shapes with each other and determine which one is closer to the target. The geometry that produces a lower loss is closer to the target.\n",
    "\n",
    "Loss functions can be much more complicated than this. We can say that we want a bell size between 65 and 75mm, a certain drone frequency, certain overblow frequencies, we can add loss if the didgeridoo gets narrower instead of wider along the bore, and much more. The loss function is super important for the artificial evolution.\n",
    "\n",
    "Computational evolution usually uses a fitness function, that determines which of two individuals (which of two didgeridoo shapes) is fitter or better. For reasons I dont remember anymore we use a loss function, so we determine which of two shapes is worse. In the end it really does not matter if you use fitness or loss, so for DidgeLab we go with loss.\n",
    "\n",
    "## Computational evolution\n",
    "\n",
    "So our goal is still the optimization of a didgeridoo geometries. Now we can compare two geometries which each other and find out which of the two is closer to the goal. So how exactly do we utilize that to come up with a shape that is close to the goal? First I explain the basic concept and than I explain the actual implementation, which is a bit more complex than the basic concept.\n",
    "\n",
    "So for the basic concept, we start with a parametric shape (you remember these from tutorial 2?). This parametric shape already has some of our expectations embedded. E.g., we know that our didgeridoo should have a certain mouth piece size, a bell, and more. Also it has a set of parameters (e.g. bell size, length and others). The parameter set determines the geometry which determines the sonic properties. In computational evolution we have the notion of the \"fittest\" individual or the fittest parameter set, which is the individual with the smallest value of the loss function. When we begin, we have only a single individual so this is the fittest individual.\n",
    "\n",
    "Now we randomly mutate this individual. For each mutant we compute the loss. If the loss is smaller than the loss of the fittest individual, than this mutant becomes the next fittest individual. Lets say we run this process over 1000 mutations. Each of these mutations is called a generation. At each of these 1000 generations, we mutate the fittest individual. Over the course of 1000 generations, the loss will never become bigger. The loss should always become smaller. And hopefully at the end of 1000 mutations, our geometry should have the properties which we defined over the loss.\n",
    "\n",
    "So here you should take a deep breath and see if you understood this basic concept. Can you understand why this algorithm leads to geometries that have produce a low loss and can you understand how the loss function relates to the didgeridoo properties that we want to generate?\n",
    "\n",
    "The actual implementation of computational evolution is a bit more complex. First of all, we do not do this one time, but several, usually 10, times. So in the end of the process we have 10 fittest individuals to choose from. We call the group of 10 mutants, that we mutate in parallel, the mutant pool.\n",
    "\n",
    "The evolution has two phases, the exploration phase and the fine tuning phase. In the exporation phase, the mutation changes all parameters in a drastical way. In this way we try to come up with shapes that are close to what we want. In the fine tuning phase, the mutation changes only single parameters and it does not change them so drastically. In the fine tuning phase, we want to push the shapes closer to their target.\n",
    "\n",
    "To better utilize parallelization and multiple CPU cores, each generation has a generation size, of e.g. 100. So each fittest individual in the mutant pool is mutated 100 times. Then these 100 mutations are compared to each other and the next fittest individual is selected. This determines the father shape for the next generation.\n",
    "\n",
    "## Practical example\n",
    "\n",
    "Enough theory. Lets define a loss function and play around with it. First we start with one of the shapes. We print the parameters of MbeyaShape."
   ]
  },
  {
   "cell_type": "code",
   "execution_count": 2,
   "metadata": {},
   "outputs": [
    {
     "data": {
      "text/plain": [
       "                  name    value     min      max  mutable\n",
       "0             l_gerade  1000.00  500.00  1500.00    False\n",
       "1             d_gerade     1.05    0.90     1.20    False\n",
       "2   n_opening_segments     4.00    0.00     8.00    False\n",
       "3     opening_factor_x     0.00   -2.00     2.00    False\n",
       "4     opening_factor_y     0.00   -2.00     2.00    False\n",
       "5       opening_length   850.00  700.00  1000.00    False\n",
       "6           d_pre_bell    45.00   40.00    50.00    False\n",
       "7               l_bell    35.00   20.00    50.00    False\n",
       "8             bellsize    17.50    5.00    30.00    False\n",
       "9         add_bubble_0     0.50    0.00     1.00    False\n",
       "10     bubble_height_0     0.50    0.00     1.00    False\n",
       "11        bubble_pos_0     0.50    0.00     1.00    False\n",
       "12      bubble_width_0   150.00    0.00   300.00    False"
      ]
     },
     "execution_count": 2,
     "metadata": {},
     "output_type": "execute_result"
    }
   ],
   "source": [
    "from cad.calc.parameters import MbeyaShape\n",
    "from cad.cadsd.cadsd import CADSD\n",
    "\n",
    "parameters = MbeyaShape()\n",
    "parameters"
   ]
  },
  {
   "cell_type": "markdown",
   "metadata": {},
   "source": [
    "And here are the initial resonant frequencies of the shape. Remember, the first resonant frequency is the drone note, the 2nd is the first toot."
   ]
  },
  {
   "cell_type": "code",
   "execution_count": 3,
   "metadata": {},
   "outputs": [
    {
     "data": {
      "text/html": [
       "<div>\n",
       "<style scoped>\n",
       "    .dataframe tbody tr th:only-of-type {\n",
       "        vertical-align: middle;\n",
       "    }\n",
       "\n",
       "    .dataframe tbody tr th {\n",
       "        vertical-align: top;\n",
       "    }\n",
       "\n",
       "    .dataframe thead th {\n",
       "        text-align: right;\n",
       "    }\n",
       "</style>\n",
       "<table border=\"1\" class=\"dataframe\">\n",
       "  <thead>\n",
       "    <tr style=\"text-align: right;\">\n",
       "      <th></th>\n",
       "      <th>freq</th>\n",
       "      <th>impedance</th>\n",
       "      <th>rel_imp</th>\n",
       "      <th>note-number</th>\n",
       "      <th>cent-diff</th>\n",
       "      <th>note-name</th>\n",
       "    </tr>\n",
       "  </thead>\n",
       "  <tbody>\n",
       "    <tr>\n",
       "      <th>1607</th>\n",
       "      <td>61.9</td>\n",
       "      <td>2.875512e+07</td>\n",
       "      <td>1.000000</td>\n",
       "      <td>-34</td>\n",
       "      <td>-4.609349</td>\n",
       "      <td>B1</td>\n",
       "    </tr>\n",
       "    <tr>\n",
       "      <th>146</th>\n",
       "      <td>147.0</td>\n",
       "      <td>5.573990e+06</td>\n",
       "      <td>0.193843</td>\n",
       "      <td>-19</td>\n",
       "      <td>-1.975158</td>\n",
       "      <td>D2</td>\n",
       "    </tr>\n",
       "    <tr>\n",
       "      <th>229</th>\n",
       "      <td>230.0</td>\n",
       "      <td>5.641366e+06</td>\n",
       "      <td>0.196187</td>\n",
       "      <td>-11</td>\n",
       "      <td>23.043595</td>\n",
       "      <td>A#3</td>\n",
       "    </tr>\n",
       "    <tr>\n",
       "      <th>323</th>\n",
       "      <td>324.0</td>\n",
       "      <td>2.158769e+06</td>\n",
       "      <td>0.075074</td>\n",
       "      <td>-5</td>\n",
       "      <td>29.811653</td>\n",
       "      <td>E3</td>\n",
       "    </tr>\n",
       "    <tr>\n",
       "      <th>409</th>\n",
       "      <td>410.0</td>\n",
       "      <td>1.914547e+06</td>\n",
       "      <td>0.066581</td>\n",
       "      <td>-1</td>\n",
       "      <td>22.255537</td>\n",
       "      <td>G#3</td>\n",
       "    </tr>\n",
       "    <tr>\n",
       "      <th>504</th>\n",
       "      <td>505.0</td>\n",
       "      <td>1.116385e+06</td>\n",
       "      <td>0.038824</td>\n",
       "      <td>2</td>\n",
       "      <td>-38.535837</td>\n",
       "      <td>B4</td>\n",
       "    </tr>\n",
       "    <tr>\n",
       "      <th>591</th>\n",
       "      <td>592.0</td>\n",
       "      <td>9.217152e+05</td>\n",
       "      <td>0.032054</td>\n",
       "      <td>5</td>\n",
       "      <td>-13.712383</td>\n",
       "      <td>D4</td>\n",
       "    </tr>\n",
       "    <tr>\n",
       "      <th>694</th>\n",
       "      <td>695.0</td>\n",
       "      <td>7.223093e+05</td>\n",
       "      <td>0.025119</td>\n",
       "      <td>8</td>\n",
       "      <td>8.588655</td>\n",
       "      <td>F4</td>\n",
       "    </tr>\n",
       "    <tr>\n",
       "      <th>801</th>\n",
       "      <td>802.0</td>\n",
       "      <td>6.221572e+05</td>\n",
       "      <td>0.021636</td>\n",
       "      <td>10</td>\n",
       "      <td>-39.318456</td>\n",
       "      <td>G4</td>\n",
       "    </tr>\n",
       "    <tr>\n",
       "      <th>900</th>\n",
       "      <td>901.0</td>\n",
       "      <td>8.624649e+05</td>\n",
       "      <td>0.029993</td>\n",
       "      <td>12</td>\n",
       "      <td>-40.828299</td>\n",
       "      <td>A5</td>\n",
       "    </tr>\n",
       "    <tr>\n",
       "      <th>993</th>\n",
       "      <td>994.0</td>\n",
       "      <td>8.691892e+05</td>\n",
       "      <td>0.030227</td>\n",
       "      <td>14</td>\n",
       "      <td>-10.890794</td>\n",
       "      <td>B5</td>\n",
       "    </tr>\n",
       "  </tbody>\n",
       "</table>\n",
       "</div>"
      ],
      "text/plain": [
       "       freq     impedance   rel_imp  note-number  cent-diff note-name\n",
       "1607   61.9  2.875512e+07  1.000000          -34  -4.609349        B1\n",
       "146   147.0  5.573990e+06  0.193843          -19  -1.975158        D2\n",
       "229   230.0  5.641366e+06  0.196187          -11  23.043595       A#3\n",
       "323   324.0  2.158769e+06  0.075074           -5  29.811653        E3\n",
       "409   410.0  1.914547e+06  0.066581           -1  22.255537       G#3\n",
       "504   505.0  1.116385e+06  0.038824            2 -38.535837        B4\n",
       "591   592.0  9.217152e+05  0.032054            5 -13.712383        D4\n",
       "694   695.0  7.223093e+05  0.025119            8   8.588655        F4\n",
       "801   802.0  6.221572e+05  0.021636           10 -39.318456        G4\n",
       "900   901.0  8.624649e+05  0.029993           12 -40.828299        A5\n",
       "993   994.0  8.691892e+05  0.030227           14 -10.890794        B5"
      ]
     },
     "execution_count": 3,
     "metadata": {},
     "output_type": "execute_result"
    }
   ],
   "source": [
    "geo = parameters.make_geo()\n",
    "cadsd = CADSD(geo)\n",
    "cadsd.get_notes()"
   ]
  },
  {
   "cell_type": "markdown",
   "metadata": {},
   "source": [
    "Next we define a loss function. Lets say we want to make a Didgeridoo form that has a drone note of D and an octave toot. Also we want to ensure that the first three peaks have an impedance of more than 4e+06 because a peak does not need tuning alone, it also needs a certain impedance to be playable.\n",
    "\n",
    "So here is the source code:"
   ]
  },
  {
   "cell_type": "code",
   "execution_count": 7,
   "metadata": {},
   "outputs": [],
   "source": [
    "from cad.calc.loss import LossFunction, TootTuningHelper, diameter_loss, single_note_loss\n",
    "from cad.calc.conv import note_to_freq\n",
    "import tqdm as tqdm\n",
    "from cad.calc.parameters import FinetuningParameters\n",
    "\n",
    "# first we define the loss function\n",
    "class TutorialLoss(LossFunction):\n",
    "\n",
    "    def __init__(self):\n",
    "        \n",
    "        self.target_notes = [-31, -19]\n",
    "        self.target_freqs = [note_to_freq(note) for note in self.target_notes]\n",
    "        self.min_impedance = 4e+6\n",
    "    \n",
    "    # Every loss function implements the get_loss method that computes the loss \n",
    "    # for a geometry. Do not mind the context here, we do not need it.\n",
    "    def get_loss(self, geo, context=None):\n",
    "        \n",
    "        # we do compute the cadsd directly, but we get it from the geometry.\n",
    "        # in case we need it again, we do not need to compute it a 2nd time\n",
    "        # but can use it from the cache in the geo object\n",
    "        cadsd = geo.get_cadsd()\n",
    "        notes = cadsd.get_notes()\n",
    "\n",
    "        # if we have less than 3 resonant peaks then return a super high loss\n",
    "        if len(notes) < 3:\n",
    "            return 1000\n",
    "        \n",
    "        tuning_loss = 0\n",
    "        for i in range(len(self.target_freqs)):\n",
    "            # we compute the squared error for deviations from the target frequency\n",
    "            diff = notes.freq.iloc[i] - self.target_freqs[i]\n",
    "            tuning_loss += diff * diff\n",
    "            \n",
    "        volume_loss = 0\n",
    "        for i in range(len(self.target_freqs)):\n",
    "            imp = notes.impedance.iloc[i]\n",
    "            if imp < self.min_impedance:\n",
    "                diff = 1+(self.min_impedance-imp)/self.min_impedance   # this is a number between 1 and 2, with 1 meaning no deviation and 2 meaning super high deviation from our goal\n",
    "                diff *= 20    # we want to put a high penalty to this\n",
    "                volume_loss += diff\n",
    "\n",
    "        # we return multiple loss values as a dictionary. the evolution considers only the \"loss\" key. the other keys can\n",
    "        # give an insight in how the different parts of the loss influence the evolution.\n",
    "        loss={\n",
    "            \"loss\": tuning_loss + volume_loss,\n",
    "            \"tuning_loss\": tuning_loss,\n",
    "            \"volume_loss\": volume_loss,\n",
    "        }\n",
    "        return loss\n",
    "\n",
    "loss = TutorialLoss()"
   ]
  },
  {
   "cell_type": "markdown",
   "metadata": {},
   "source": [
    "First we defined the loss function. Then we created the parameters for the computational evolution. We can see that the FinetuningParameters define 18 parameters, 2 for each segment of the open didgeridoo geometry. The first two parameters are immutable, because we do not want the mouthpiece position to be anywhere alse than 0 and the diameter of the mouthpiece should stay at 32mm. All the other parameters can be changed within a certain region.\n",
    "\n",
    "Next we perform an evolution. Therefore we define a processing pipeline. This pipeline consists of a single step only, the finetuning step. In this example we do not perform the exploration phase, because our shape is already almost where it should be."
   ]
  },
  {
   "cell_type": "code",
   "execution_count": 5,
   "metadata": {},
   "outputs": [
    {
     "name": "stderr",
     "output_type": "stream",
     "text": [
      "100%|██████████| 100/100 [01:38<00:00,  1.01it/s]\n"
     ]
    }
   ],
   "source": [
    "from cad.calc.pipeline import Pipeline, FinetuningPipelineStep, ExplorePipelineStep\n",
    "from cad.calc.mutation import MutantPool, FinetuningMutator, ExploringMutator\n",
    "from cad.ui.evolution_ui import EvolutionUI\n",
    "from cad.ui.evolution_progress_bar import EvolutionProgressBar\n",
    "\n",
    "# our mutant pool contains only a single mutant. we do not want to mutate several mutants\n",
    "mutant_pool=MutantPool.create_from_father(parameters, 1, loss)\n",
    "\n",
    "# here we define a processing pipeline that consists of fine tuning only\n",
    "pipeline=Pipeline()\n",
    "\n",
    "n_generations=50\n",
    "n_generation_size=10\n",
    "\n",
    "pipeline.add_step(ExplorePipelineStep(ExploringMutator(), loss, mutant_pool, n_generations=n_generations, generation_size=n_generation_size))\n",
    "pipeline.add_step(FinetuningPipelineStep(FinetuningMutator(), loss, n_generations=n_generations, generation_size=n_generation_size))\n",
    "\n",
    "# this is a simple progress bar that shows the number of generations that has passed\n",
    "# we pass the number of generations as a parameter. There are two pipeline steps, each has n_generations, \n",
    "# so in total there are n_generations*2 pipeline steps.\n",
    "EvolutionProgressBar(n_generations*2)\n",
    "\n",
    "# start the pipeline\n",
    "final_mutant_pool=pipeline.run()"
   ]
  },
  {
   "cell_type": "markdown",
   "metadata": {},
   "source": [
    "Lets print the notes and the didgeridoo shape. We are not super close to the target frequencies. But `n_generations` and `n_generation_size` are small. The higher these numbers the closer we will get to the target and the longer the skript runs."
   ]
  },
  {
   "cell_type": "code",
   "execution_count": 8,
   "metadata": {},
   "outputs": [
    {
     "name": "stdout",
     "output_type": "stream",
     "text": [
      "       freq     impedance   rel_imp  note-number  cent-diff note-name\n",
      "1732   74.4  1.754935e+07  1.000000          -31 -23.045203        D1\n",
      "145   146.0  1.819902e+07  1.037020          -19   9.842186        D2\n",
      "265   266.0  6.429612e+05  0.036637           -9 -28.707266        C3\n",
      "358   359.0  1.333706e+07  0.759975           -4 -47.776384        F3\n",
      "578   579.0  6.738537e+06  0.383977            5  24.728211        D4\n",
      "788   789.0  1.866293e+06  0.106345           10 -11.026132        G4\n",
      "957   958.0  7.387334e+05  0.042095           13 -47.026559       A#5\n"
     ]
    },
    {
     "data": {
      "text/plain": [
       "<AxesSubplot: xlabel='x', ylabel='y'>"
      ]
     },
     "execution_count": 8,
     "metadata": {},
     "output_type": "execute_result"
    },
    {
     "data": {
      "image/png": "[encoded data removed]",
      "text/plain": [
       "<Figure size 1080x216 with 1 Axes>"
      ]
     },
     "metadata": {},
     "output_type": "display_data"
    }
   ],
   "source": [
    "from cad.ui.visualization import DidgeVisualizer\n",
    "\n",
    "final_geo=final_mutant_pool.get(0).geo\n",
    "print(final_geo.get_cadsd().get_notes())\n",
    "\n",
    "DidgeVisualizer.vis_didge(final_geo)"
   ]
  }
 ],
 "metadata": {
  "kernelspec": {
   "display_name": "didge",
   "language": "python",
   "name": "didge"
  },
  "language_info": {
   "codemirror_mode": {
    "name": "ipython",
    "version": 3
   },
   "file_extension": ".py",
   "mimetype": "text/x-python",
   "name": "python",
   "nbconvert_exporter": "python",
   "pygments_lexer": "ipython3",
   "version": "3.8.13"
  }
 },
 "nbformat": 4,
 "nbformat_minor": 4
}
